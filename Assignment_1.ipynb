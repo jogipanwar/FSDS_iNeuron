{
 "cells": [
  {
   "cell_type": "markdown",
   "id": "a8129687",
   "metadata": {},
   "source": [
    "# <center>Assignment - 1\n",
    "<div align=\"right\"> By:Jogender Singh</div>"
   ]
  },
  {
   "cell_type": "markdown",
   "id": "c158581b",
   "metadata": {},
   "source": [
    "<b>Q1. In the below elements which of them are values or an expression? eg:- values can be integer or string and expressions will be mathematical operators.\n",
    "\n",
    "<b>*\n",
    "\n",
    "<b>hello\n",
    "\n",
    "<b>-87.8\n",
    "\n",
    "<b>-\n",
    "\n",
    "<b>/\n",
    "\n",
    "<b>+\n",
    "\n",
    "<b>6 \n"
   ]
  },
  {
   "cell_type": "markdown",
   "id": "eb624bec",
   "metadata": {},
   "source": [
    "<b>Ans.</b>\n",
    "String Value = hello\n",
    "\n",
    "Float Value = -87.8\n",
    "\n",
    "Intger Value = 6\n",
    "\n",
    "Mathematical operators = *, - , / , +\n",
    "\n",
    "Expression is series of multiple values and variable combined with Mathematical operators to seek a new value."
   ]
  },
  {
   "cell_type": "markdown",
   "id": "1dec4b19",
   "metadata": {},
   "source": [
    "<b>Q2. What is the difference between string and variable?"
   ]
  },
  {
   "cell_type": "markdown",
   "id": "33ea80b8",
   "metadata": {},
   "source": [
    "<b>Ans.</b> \n",
    "String is a textual value and variable is used to store the values of differnt data type."
   ]
  },
  {
   "cell_type": "markdown",
   "id": "a8d1e843",
   "metadata": {},
   "source": [
    "<b>Q3. Describe three different data types."
   ]
  },
  {
   "cell_type": "markdown",
   "id": "d9d62d0b",
   "metadata": {},
   "source": [
    "<b>Ans.</b> \n",
    "1. Int\n",
    "2. Float\n",
    "3. Str\n",
    "\n",
    "Some other Datatypes are\n",
    "\n",
    "4. Bool\n",
    "5. list\n",
    "6. tuple\n",
    "7. set\n",
    "8. Dict\n",
    "9. complex "
   ]
  },
  {
   "cell_type": "markdown",
   "id": "e681e882",
   "metadata": {},
   "source": [
    "<b> Q4. What is an expression made up of? What do all expressions do?"
   ]
  },
  {
   "cell_type": "markdown",
   "id": "5beb9a90",
   "metadata": {},
   "source": [
    "<b>Ans.</b>Expression is series of multiple values and variable combined with Mathematical operators. Through expression we perform specific task on values and variables to compute/generate a new value. "
   ]
  },
  {
   "cell_type": "markdown",
   "id": "5f17071c",
   "metadata": {},
   "source": [
    "<b>Q5. This assignment statements, like spam = 10. What is the difference between an\n",
    "expression and a statement?"
   ]
  },
  {
   "cell_type": "markdown",
   "id": "c38cc030",
   "metadata": {},
   "source": [
    "<b>Ans</b> The assignment statement is used to assign a value to the variable.In above eample value 10 is assigned to variable named as spam. Through expression we perform specific task on values and variables to compute/generate a new value.\n",
    "    \n",
    "In an assignment statement we can either assign direct a value or an expression which compute/genrate a value.\n",
    "    "
   ]
  },
  {
   "cell_type": "code",
   "execution_count": 22,
   "id": "29118d06",
   "metadata": {},
   "outputs": [
    {
     "data": {
      "text/plain": [
       "1"
      ]
     },
     "execution_count": 22,
     "metadata": {},
     "output_type": "execute_result"
    }
   ],
   "source": [
    "#Assignment_Stetment_1\n",
    "a = 1\n",
    "a"
   ]
  },
  {
   "cell_type": "code",
   "execution_count": 23,
   "id": "43d73608",
   "metadata": {},
   "outputs": [
    {
     "data": {
      "text/plain": [
       "7"
      ]
     },
     "execution_count": 23,
     "metadata": {},
     "output_type": "execute_result"
    }
   ],
   "source": [
    "#Assignment_Stetment_1\n",
    "a = 1*3+4\n",
    "a"
   ]
  },
  {
   "cell_type": "markdown",
   "id": "e29a0d28",
   "metadata": {},
   "source": [
    "<b>Q6. After running the following code, what does the variable bacon contain?\n",
    "\n",
    "<b>bacon = 22 , \n",
    "\n",
    "<b>bacon + 1"
   ]
  },
  {
   "cell_type": "markdown",
   "id": "b363b932",
   "metadata": {},
   "source": [
    "<b>Ans.<b> Variabe bacon will have same value as 22"
   ]
  },
  {
   "cell_type": "code",
   "execution_count": 25,
   "id": "ee224d6b",
   "metadata": {},
   "outputs": [
    {
     "name": "stdout",
     "output_type": "stream",
     "text": [
      "22\n"
     ]
    }
   ],
   "source": [
    "bacon = 22\n",
    "bacon+1\n",
    "print(bacon)"
   ]
  },
  {
   "cell_type": "code",
   "execution_count": 26,
   "id": "c59da0e2",
   "metadata": {},
   "outputs": [
    {
     "data": {
      "text/plain": [
       "23"
      ]
     },
     "execution_count": 26,
     "metadata": {},
     "output_type": "execute_result"
    }
   ],
   "source": [
    "#if we use assignment statement than its value will be changed\n",
    "bacon = bacon +1\n",
    "bacon"
   ]
  },
  {
   "cell_type": "markdown",
   "id": "9b540cc4",
   "metadata": {},
   "source": [
    "<b>Q7. What should the values of the following two terms be?\n",
    "\n",
    "<b>'spam' + 'spam' +'spam'\n",
    "\n",
    "<b>'spam'* 3"
   ]
  },
  {
   "cell_type": "markdown",
   "id": "8f89e384",
   "metadata": {},
   "source": [
    "<b>Ans:</b>  Both the statements will produce same output. The statement will add the all 3 string and 2nd statement will reapt the fgiven string 3 times."
   ]
  },
  {
   "cell_type": "code",
   "execution_count": 1,
   "id": "2d622def",
   "metadata": {},
   "outputs": [
    {
     "data": {
      "text/plain": [
       "'spamspamspam'"
      ]
     },
     "execution_count": 1,
     "metadata": {},
     "output_type": "execute_result"
    }
   ],
   "source": [
    "'spam'+'spam'+'spam'"
   ]
  },
  {
   "cell_type": "code",
   "execution_count": 2,
   "id": "a1b4e2d5",
   "metadata": {},
   "outputs": [
    {
     "data": {
      "text/plain": [
       "'spamspamspam'"
      ]
     },
     "execution_count": 2,
     "metadata": {},
     "output_type": "execute_result"
    }
   ],
   "source": [
    "'spam'*3"
   ]
  },
  {
   "cell_type": "markdown",
   "id": "3b178987",
   "metadata": {},
   "source": [
    "<b>Q8. Why is eggs a valid variable name while 100 is invalid?"
   ]
  },
  {
   "cell_type": "markdown",
   "id": "5f758500",
   "metadata": {},
   "source": [
    "<b>Ans.</b> While defining a variable in python its name can be alpha-numeric characters and underscores and name can't start with a number. Here 'eggs' is valid variable name while 100 is iteself an integer when and value cant be assigned to it.Even appending this with alphabets also give erro as invallid syntax"
   ]
  },
  {
   "cell_type": "code",
   "execution_count": 6,
   "id": "f15c18d6",
   "metadata": {},
   "outputs": [
    {
     "data": {
      "text/plain": [
       "13"
      ]
     },
     "execution_count": 6,
     "metadata": {},
     "output_type": "execute_result"
    }
   ],
   "source": [
    "eggs = 13\n",
    "eggs"
   ]
  },
  {
   "cell_type": "code",
   "execution_count": 10,
   "id": "93a338b8",
   "metadata": {},
   "outputs": [
    {
     "ename": "SyntaxError",
     "evalue": "invalid syntax (Temp/ipykernel_9076/1979381316.py, line 2)",
     "output_type": "error",
     "traceback": [
      "\u001b[1;36m  File \u001b[1;32m\"C:\\Users\\CUBAST~1\\AppData\\Local\\Temp/ipykernel_9076/1979381316.py\"\u001b[1;36m, line \u001b[1;32m2\u001b[0m\n\u001b[1;33m    100eggs = 10\u001b[0m\n\u001b[1;37m       ^\u001b[0m\n\u001b[1;31mSyntaxError\u001b[0m\u001b[1;31m:\u001b[0m invalid syntax\n"
     ]
    }
   ],
   "source": [
    "#even appending this with alphabets also give erro as invallid syntax\n",
    "100eggs = 10"
   ]
  },
  {
   "cell_type": "markdown",
   "id": "690810c8",
   "metadata": {},
   "source": [
    "<b>Q9. What three functions can be used to get the integer, floating-point number, or string\n",
    "version of a value?"
   ]
  },
  {
   "cell_type": "markdown",
   "id": "9c1d3b5a",
   "metadata": {},
   "source": [
    "<b> Ans. </b> \n",
    "1. __'int'__ is be used for integr casting.\n",
    "2. __'float'__ is used for floating-point number.\n",
    "3. __'str'__ is used for string."
   ]
  },
  {
   "cell_type": "code",
   "execution_count": 13,
   "id": "742f7726",
   "metadata": {},
   "outputs": [
    {
     "name": "stdout",
     "output_type": "stream",
     "text": [
      "<class 'int'>\n",
      "<class 'float'>\n",
      "<class 'str'>\n"
     ]
    }
   ],
   "source": [
    "a = 10\n",
    "print(type(int(a)))\n",
    "print(type(float(a)))\n",
    "print(type(str(a)))"
   ]
  },
  {
   "cell_type": "markdown",
   "id": "cbeaefd9",
   "metadata": {},
   "source": [
    "<b>Q10. Why does this expression cause an error? How can you fix it?\n",
    "\n",
    "<b>'I have eaten'+ 99 + 'burritos'"
   ]
  },
  {
   "cell_type": "markdown",
   "id": "2dc82f98",
   "metadata": {},
   "source": [
    "<b>Ans.</b> Here 99 is not casted as str,hence in the given expression all three part can't be concatenated together."
   ]
  },
  {
   "cell_type": "code",
   "execution_count": 14,
   "id": "94520ffd",
   "metadata": {},
   "outputs": [
    {
     "ename": "TypeError",
     "evalue": "can only concatenate str (not \"int\") to str",
     "output_type": "error",
     "traceback": [
      "\u001b[1;31m---------------------------------------------------------------------------\u001b[0m",
      "\u001b[1;31mTypeError\u001b[0m                                 Traceback (most recent call last)",
      "\u001b[1;32mC:\\Users\\CUBAST~1\\AppData\\Local\\Temp/ipykernel_9076/1486493540.py\u001b[0m in \u001b[0;36m<module>\u001b[1;34m\u001b[0m\n\u001b[1;32m----> 1\u001b[1;33m \u001b[1;34m'I have eaten'\u001b[0m\u001b[1;33m+\u001b[0m \u001b[1;36m99\u001b[0m \u001b[1;33m+\u001b[0m \u001b[1;34m'burritos'\u001b[0m\u001b[1;33m\u001b[0m\u001b[1;33m\u001b[0m\u001b[0m\n\u001b[0m",
      "\u001b[1;31mTypeError\u001b[0m: can only concatenate str (not \"int\") to str"
     ]
    }
   ],
   "source": [
    "'I have eaten'+ 99 + 'burritos'"
   ]
  },
  {
   "cell_type": "code",
   "execution_count": 15,
   "id": "4bcfda5c",
   "metadata": {},
   "outputs": [
    {
     "data": {
      "text/plain": [
       "'I have eaten99burritos'"
      ]
     },
     "execution_count": 15,
     "metadata": {},
     "output_type": "execute_result"
    }
   ],
   "source": [
    "#solution is casting 99 as str\n",
    "'I have eaten'+ '99' + 'burritos'"
   ]
  },
  {
   "cell_type": "markdown",
   "id": "2c994dd4",
   "metadata": {},
   "source": [
    "<center>The End"
   ]
  }
 ],
 "metadata": {
  "kernelspec": {
   "display_name": "Python 3 (ipykernel)",
   "language": "python",
   "name": "python3"
  },
  "language_info": {
   "codemirror_mode": {
    "name": "ipython",
    "version": 3
   },
   "file_extension": ".py",
   "mimetype": "text/x-python",
   "name": "python",
   "nbconvert_exporter": "python",
   "pygments_lexer": "ipython3",
   "version": "3.9.7"
  }
 },
 "nbformat": 4,
 "nbformat_minor": 5
}
