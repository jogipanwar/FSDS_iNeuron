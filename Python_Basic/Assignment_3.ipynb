{
 "cells": [
  {
   "cell_type": "markdown",
   "id": "381d4906",
   "metadata": {},
   "source": [
    "# <center>Assignment - 3\n",
    "<div align=\"right\"> By:Jogender Singh</div>"
   ]
  },
  {
   "cell_type": "markdown",
   "id": "59ea51a5",
   "metadata": {},
   "source": [
    "<b>Q1. Why are functions advantageous to have in your programs?"
   ]
  },
  {
   "cell_type": "markdown",
   "id": "08999e89",
   "metadata": {},
   "source": [
    "<b>Ans.</b>\n",
    "Use of function make our code shorter ,easy to readable and understandable. Function eliminate repititive task from code, once a function is defined, can be called many time (as required) by just one line with input values to execute the same task."
   ]
  },
  {
   "cell_type": "markdown",
   "id": "d313e0ab",
   "metadata": {},
   "source": [
    "<b>Q2. When does the code in a function run: when it&#39;s specified or when it&#39;s called?"
   ]
  },
  {
   "cell_type": "markdown",
   "id": "b135749d",
   "metadata": {},
   "source": [
    "<b>Ans.</b>\n",
    "Defining a function not execute code inside it. It is executed once the function is called with correct parameters."
   ]
  },
  {
   "cell_type": "markdown",
   "id": "bcd1960e",
   "metadata": {},
   "source": [
    "<b>Q3. What statement creates a function?"
   ]
  },
  {
   "cell_type": "markdown",
   "id": "680709c3",
   "metadata": {},
   "source": [
    "<b>Ans.</b>\n",
    "Function is created using \"def\" statement. The standard syntax of function is as follow:\n",
    "\n",
    "\n",
    "def function_1(par1,par2):\n",
    "\n",
    "    \"\"\"  here we can define the doc-string for function  \"\"\"\n",
    "    \n",
    "    ------------------- code ---------------------------\n",
    "    \n",
    "    ------------------- code ---------------------------\n",
    "    \n",
    "    ------------------- code ---------------------------\n",
    "    \n",
    "    return value\n"
   ]
  },
  {
   "cell_type": "markdown",
   "id": "de18ed0b",
   "metadata": {},
   "source": [
    "<b>Q4. What is the difference between a function and a function call?"
   ]
  },
  {
   "cell_type": "markdown",
   "id": "5470e872",
   "metadata": {},
   "source": [
    "<b>Ans.</b>\n",
    "Function is consist of specific code to perform a particuler task. When we want to execute this task at any time in our code we have to just enter the function name with required parameters and this thing known as function call."
   ]
  },
  {
   "cell_type": "markdown",
   "id": "5e8f7ef6",
   "metadata": {},
   "source": [
    "<b>Q5. How many global scopes are there in a Python program? How many local scopes?"
   ]
  },
  {
   "cell_type": "markdown",
   "id": "c49fb721",
   "metadata": {},
   "source": [
    "<b>Ans.</b>\n",
    "There is 1 global scopes in python program. When we define a function 1 local scope is associated with it"
   ]
  },
  {
   "cell_type": "markdown",
   "id": "e590c734",
   "metadata": {},
   "source": [
    "<b>Q6. What happens to variables in a local scope when the function call returns?"
   ]
  },
  {
   "cell_type": "markdown",
   "id": "40c1281c",
   "metadata": {},
   "source": [
    "<b>Ans.</b>\n",
    "After a function call returns, variables inside its local scope get destroyed."
   ]
  },
  {
   "cell_type": "markdown",
   "id": "ce4f73ee",
   "metadata": {},
   "source": [
    "<b>Q7. What is the concept of a return value? Is it possible to have a return value in an expression?"
   ]
  },
  {
   "cell_type": "markdown",
   "id": "30bb7b70",
   "metadata": {},
   "source": [
    "<b>Ans.</b>\n",
    "After a function call it execute its code and return the desired value. The returned value could be used in an expression like any other value."
   ]
  },
  {
   "cell_type": "markdown",
   "id": "b22dd436",
   "metadata": {},
   "source": [
    "<b>Q8. If a function does not have a return statement, what is the return value of a call to that function?"
   ]
  },
  {
   "cell_type": "markdown",
   "id": "de42091e",
   "metadata": {},
   "source": [
    "<b>Ans.</b>\n",
    "A Function without a return statement return \"None\" as a value."
   ]
  },
  {
   "cell_type": "markdown",
   "id": "8fc3650a",
   "metadata": {},
   "source": [
    "<b>Q9. How do you make a function variable refer to the global variable?"
   ]
  },
  {
   "cell_type": "markdown",
   "id": "819ae96f",
   "metadata": {},
   "source": [
    "<b>Ans.</b>\n",
    "A global statement is used to define a global variable inside a function. We can use the global keyword to declare which variables are global."
   ]
  },
  {
   "cell_type": "code",
   "execution_count": 1,
   "id": "0bf4e4f0",
   "metadata": {},
   "outputs": [
    {
     "name": "stdout",
     "output_type": "stream",
     "text": [
      "22\n",
      "22\n"
     ]
    }
   ],
   "source": [
    "x = 10\n",
    "def change():\n",
    "    global x\n",
    "    x = x + 12\n",
    "    print(x)\n",
    "\n",
    "change()\n",
    "print(x)"
   ]
  },
  {
   "cell_type": "markdown",
   "id": "a54dc598",
   "metadata": {},
   "source": [
    "<b>Q10. What is the data type of None?"
   ]
  },
  {
   "cell_type": "markdown",
   "id": "0464ed0b",
   "metadata": {},
   "source": [
    "<b>Ans.</b>\n",
    "When a function(without return statements) return None , its datatype is NoneType."
   ]
  },
  {
   "cell_type": "markdown",
   "id": "86224a29",
   "metadata": {},
   "source": [
    "<b>Q11. What does the sentence import areallyourpetsnamederic do?"
   ]
  },
  {
   "cell_type": "markdown",
   "id": "ac8eee02",
   "metadata": {},
   "source": [
    "<b>Ans.</b>\n",
    "\n",
    "imoprt areallyourpetsnamederic\n",
    "\n",
    "Its import a module named areallyourpetsnamederic to our programme."
   ]
  },
  {
   "cell_type": "markdown",
   "id": "c9714833",
   "metadata": {},
   "source": [
    "<b>Q12. If you had a bacon() feature in a spam module, what would you call it after importing spam?"
   ]
  },
  {
   "cell_type": "markdown",
   "id": "f49fe7a2",
   "metadata": {},
   "source": [
    "<b>Ans.</b>\n",
    " THe bacon() feature inside the spam module can be called as follows:\n",
    " \n",
    " import spam\n",
    " \n",
    " spam.bacon()"
   ]
  },
  {
   "cell_type": "markdown",
   "id": "ade228fa",
   "metadata": {},
   "source": [
    "<b>Q1.3 What can you do to save a programme from crashing if it encounters an error?"
   ]
  },
  {
   "cell_type": "markdown",
   "id": "2ecba884",
   "metadata": {},
   "source": [
    "<b>Ans.</b>\n",
    "When we call a function, code inside the function can cause an error during the execution which could lead to programme crash.\n",
    "To avoid this it always best practice to call function inside a try clause and raised error can be handalled by except clause."
   ]
  },
  {
   "cell_type": "markdown",
   "id": "3e52d19d",
   "metadata": {},
   "source": [
    "<b>Q14. What is the purpose of the try clause? What is the purpose of the except clause?"
   ]
  },
  {
   "cell_type": "markdown",
   "id": "3561f8d8",
   "metadata": {},
   "source": [
    "<b>Ans.</b>\n",
    "It always best practice to call a suspicious function which can lead to an error inside a try clause and raised error can be handalled by except clause it also known as exception handling. "
   ]
  },
  {
   "cell_type": "markdown",
   "id": "8bcab7a9",
   "metadata": {},
   "source": [
    "<div align=\"center\"> The End</div>"
   ]
  }
 ],
 "metadata": {
  "kernelspec": {
   "display_name": "Python 3 (ipykernel)",
   "language": "python",
   "name": "python3"
  },
  "language_info": {
   "codemirror_mode": {
    "name": "ipython",
    "version": 3
   },
   "file_extension": ".py",
   "mimetype": "text/x-python",
   "name": "python",
   "nbconvert_exporter": "python",
   "pygments_lexer": "ipython3",
   "version": "3.9.12"
  }
 },
 "nbformat": 4,
 "nbformat_minor": 5
}
