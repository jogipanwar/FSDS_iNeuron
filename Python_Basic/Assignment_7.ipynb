{
 "cells": [
  {
   "cell_type": "markdown",
   "id": "381d4906",
   "metadata": {},
   "source": [
    "# <center>Assignment - 7\n",
    "<div align=\"right\"> By:Jogender Singh</div>"
   ]
  },
  {
   "cell_type": "markdown",
   "id": "59ea51a5",
   "metadata": {},
   "source": [
    "<b>Q1. What is the name of the feature responsible for generating Regex objects?"
   ]
  },
  {
   "cell_type": "markdown",
   "id": "08999e89",
   "metadata": {},
   "source": [
    "<b>Ans.</b>\n",
    "For generating Regex Objects we use **re.compile()** feature."
   ]
  },
  {
   "cell_type": "code",
   "execution_count": 2,
   "id": "d654e2eb",
   "metadata": {},
   "outputs": [
    {
     "name": "stdout",
     "output_type": "stream",
     "text": [
      "re.compile('abc')\n",
      "<class 're.Pattern'>\n"
     ]
    }
   ],
   "source": [
    "import re\n",
    "x = re.compile(\"abc\")\n",
    "print(x)\n",
    "print(type(x))"
   ]
  },
  {
   "cell_type": "markdown",
   "id": "d313e0ab",
   "metadata": {},
   "source": [
    "<b>Q2. Why do raw strings often appear in Regex objects?"
   ]
  },
  {
   "cell_type": "markdown",
   "id": "b1ff0ecc",
   "metadata": {},
   "source": [
    "<b>Ans.</b> For eg. \\n represent new line in string and \\t represent a tab in string. When a string in Python is prefixed with the letter r or R, as in r'...' and R'...', it becomes a raw string. Compareing with a normal string, a raw string considers backslashes () as literal characters, so no characters are escaped in Regex Objects."
   ]
  },
  {
   "cell_type": "code",
   "execution_count": 3,
   "id": "6b1d1c3e",
   "metadata": {},
   "outputs": [
    {
     "name": "stdout",
     "output_type": "stream",
     "text": [
      "Hello\tWorld\n",
      "New Line : Hello World\n",
      "Hello\\tWorld\\nNew Line : Hello World\n"
     ]
    }
   ],
   "source": [
    "norm_str = 'Hello\\tWorld\\nNew Line : Hello World'\n",
    "rawstring = r'Hello\\tWorld\\nNew Line : Hello World'\n",
    "print(norm_str)\n",
    "print(rawstring)"
   ]
  },
  {
   "cell_type": "markdown",
   "id": "bcd1960e",
   "metadata": {},
   "source": [
    "<b>Q3. What is the return value of the search() method?"
   ]
  },
  {
   "cell_type": "markdown",
   "id": "680709c3",
   "metadata": {},
   "source": [
    "<b>Ans. re.search(pattern,string)</b>\n",
    "\n",
    "It return a Match Object(A span attribute that shows the locations at which the match starts and ends) if pattern is found else it return None."
   ]
  },
  {
   "cell_type": "code",
   "execution_count": 4,
   "id": "4bf85516",
   "metadata": {},
   "outputs": [
    {
     "name": "stdout",
     "output_type": "stream",
     "text": [
      "<re.Match object; span=(9, 17), match='Jogender'>\n",
      "None\n"
     ]
    }
   ],
   "source": [
    "obj_1 = re.search('Jogender','Hi, I am Jogender, How are you ?', flags=re.IGNORECASE)\n",
    "print(obj_1)\n",
    "obj_2 = re.search('Rakesh','Hi, I am Jogender, How are you ?', flags=re.IGNORECASE)\n",
    "print(obj_2)"
   ]
  },
  {
   "cell_type": "markdown",
   "id": "de18ed0b",
   "metadata": {},
   "source": [
    "<b>Q4. From a Match item, how do you get the actual strings that match the pattern?"
   ]
  },
  {
   "cell_type": "markdown",
   "id": "5470e872",
   "metadata": {},
   "source": [
    "<b>Ans.</b>\n",
    "**\".group()\"** is used to return the matched pattern from match object."
   ]
  },
  {
   "cell_type": "code",
   "execution_count": 5,
   "id": "d1f5df1e",
   "metadata": {},
   "outputs": [
    {
     "name": "stdout",
     "output_type": "stream",
     "text": [
      "JoGenDer\n"
     ]
    }
   ],
   "source": [
    "obj_1 = re.search('Jogender','Hi, I am JoGenDer, How are you ?', flags=re.IGNORECASE)\n",
    "print(obj_1.group())"
   ]
  },
  {
   "cell_type": "markdown",
   "id": "e590c734",
   "metadata": {},
   "source": [
    "<b>Q5. In the regex which created from the r&#39;(\\d\\d\\d)-(\\d\\d\\d-\\d\\d\\d\\d)&#39;, what does group zero cover?\n",
    "Group 2? Group 1?"
   ]
  },
  {
   "cell_type": "markdown",
   "id": "40c1281c",
   "metadata": {},
   "source": [
    "<b>Ans.</b> /d  will represent a digit in regex. Zero group (.group()) will cover whole regex pattern.\n",
    "\n",
    "Group 1 (.group()) will cover regex pattern (\\d\\d\\d)\n",
    "\n",
    "Group 2 (.group()) will cover regex pattern (\\d\\d\\d-\\d\\d\\d\\d)"
   ]
  },
  {
   "cell_type": "code",
   "execution_count": 10,
   "id": "03c67291",
   "metadata": {},
   "outputs": [
    {
     "name": "stdout",
     "output_type": "stream",
     "text": [
      "Group Zero: 987-654-3210\n",
      "Group 1: 987\n",
      "Group 2: 654-3210\n"
     ]
    }
   ],
   "source": [
    "import re\n",
    "regex_1 = re.compile(r'(\\d\\d\\d)-(\\d\\d\\d-\\d\\d\\d\\d)')\n",
    "obj_1 = regex_1.search('My number is 987-654-3210.')\n",
    "print('Group Zero: '+obj_1.group())\n",
    "print('Group 1: '+obj_1.group(1))\n",
    "print('Group 2: '+obj_1.group(2))"
   ]
  },
  {
   "cell_type": "markdown",
   "id": "5e8f7ef6",
   "metadata": {},
   "source": [
    "<b>Q6. In standard expression syntax, parentheses and intervals have distinct meanings. How can you tell\n",
    "a regex that you want it to fit real parentheses and periods? </b>"
   ]
  },
  {
   "cell_type": "markdown",
   "id": "c49fb721",
   "metadata": {},
   "source": [
    "<b>Ans.</b>\n",
    "Periods and parentheses can be escaped with a backslash: \\.,\n",
    "\n",
    "It can be used in regex like \n",
    "\n",
    "\\\\( \n",
    "\n",
    "\\\\) "
   ]
  },
  {
   "cell_type": "markdown",
   "id": "ce4f73ee",
   "metadata": {},
   "source": [
    "<b>Q7. The findall() method returns a string list or a list of string tuples. What causes it to return one of\n",
    "the two options?"
   ]
  },
  {
   "cell_type": "markdown",
   "id": "30bb7b70",
   "metadata": {},
   "source": [
    "<b>Ans.</b> \n",
    "findall() wiil  return either a string list or list of string tuples as follows:\n",
    "\n",
    "**String List:** if the regex pattern have no groups.\n",
    "\n",
    "**List of String Tuples:** if the regex pattern have no groups."
   ]
  },
  {
   "cell_type": "code",
   "execution_count": 19,
   "id": "43f4a4eb",
   "metadata": {
    "scrolled": true
   },
   "outputs": [
    {
     "name": "stdout",
     "output_type": "stream",
     "text": [
      "List of String Tuples:  [('987', '654-3210'), ('123', '456-7890')]\n",
      "String List:  ['987-654-3210', '123-456-7890']\n"
     ]
    }
   ],
   "source": [
    "regex_1 = re.compile(r'(\\d\\d\\d)-(\\d\\d\\d-\\d\\d\\d\\d)')\n",
    "regex_2 = re.compile(r'\\d\\d\\d-\\d\\d\\d-\\d\\d\\d\\d')\n",
    "obj_1 = regex_1.findall('My number is 987-654-3210 and 123-456-7890.')\n",
    "obj_2 = regex_2.findall('My number is 987-654-3210 and 123-456-7890.')\n",
    "\n",
    "print('List of String Tuples: ',obj_1)\n",
    "print('String List: ',obj_2)\n"
   ]
  },
  {
   "cell_type": "markdown",
   "id": "b22dd436",
   "metadata": {},
   "source": [
    "<b>Q8. In standard expressions, what does the | character mean?"
   ]
  },
  {
   "cell_type": "markdown",
   "id": "de42091e",
   "metadata": {},
   "source": [
    "<b>Ans.</b>\n",
    "In Standard expression | represent 'OR' operators."
   ]
  },
  {
   "cell_type": "markdown",
   "id": "94cc3656",
   "metadata": {},
   "source": [
    "<b>Q9. In regular expressions, what does the character stand for?"
   ]
  },
  {
   "cell_type": "markdown",
   "id": "102202ec",
   "metadata": {},
   "source": [
    "<b>Ans.</b> Character is not clearly defined any context in question."
   ]
  },
  {
   "cell_type": "markdown",
   "id": "611013e4",
   "metadata": {},
   "source": [
    "<b>Q10. In regular expressions, what is the difference between the + and * characters?"
   ]
  },
  {
   "cell_type": "markdown",
   "id": "3ea57fa0",
   "metadata": {},
   "source": [
    "<b>Ans.</b> They are known as quantifiers. The star quantifier(*) means that the preceding expression can match zero or more times while the plus quantifier(+) indicate that the preceding expression MUST match at least one time or multiple times and it is the same as {1,}\n",
    "\n",
    "a* ---> Match a or aa or aaaaa or an empty string.\n",
    "\n",
    "a+ ---> Match a or aa or aaaa but not a string empty."
   ]
  },
  {
   "cell_type": "markdown",
   "id": "53831796",
   "metadata": {},
   "source": [
    "<b>Q11. What is the difference between {4} and {4,5} in regular expression?"
   ]
  },
  {
   "cell_type": "markdown",
   "id": "c2dd7126",
   "metadata": {},
   "source": [
    "<b>Ans.</b> {4} means that its preceeding group should repeat 4 times. where as {4,5} define a range,means that its preceeding group should repeat mininum 4 times and maximum 5 times inclusively"
   ]
  },
  {
   "cell_type": "markdown",
   "id": "7cd3db09",
   "metadata": {},
   "source": [
    "<b>Q12. What do you mean by the \\d, \\w, and \\s shorthand character classes signify in regular expressions?"
   ]
  },
  {
   "cell_type": "markdown",
   "id": "398b7442",
   "metadata": {},
   "source": [
    "<b>Ans.</b> They represents specific character in regular expresssions in python:\n",
    "\n",
    "- \\w _____ represent character equivalent to [a-zA-Z0-9_].\n",
    "- \\d _____ represent digit character equivalent to [0-9].\n",
    "- \\s _____ represent whitespace character (space, tab, newline, etc.)"
   ]
  },
  {
   "cell_type": "markdown",
   "id": "7388f8f2",
   "metadata": {},
   "source": [
    "<b>Q13. What do means by \\D, \\W, and \\S shorthand character classes signify in regular expressions?"
   ]
  },
  {
   "cell_type": "markdown",
   "id": "d873d9d4",
   "metadata": {},
   "source": [
    "<b>Ans.</b> They represents specific character in regular expresssions in python:\n",
    "\n",
    "- \\W _____ represents \"non-word character\", matching any character that is not included in the range represented by \\w.\n",
    "- \\D _____ represents \"non-digit character\", matching any character that is not included in the range represented by \\d.\n",
    "- \\S _____ represent \"non-whitespace character\", matching any character that is not included in the range represented by \\s."
   ]
  },
  {
   "cell_type": "markdown",
   "id": "85988695",
   "metadata": {},
   "source": [
    "<b>Q14. What is the difference between ._*? and ._* ?"
   ]
  },
  {
   "cell_type": "markdown",
   "id": "19dfcaa1",
   "metadata": {},
   "source": [
    "<b>Ans.</b> .*? will return longest string which match the condition.\n",
    "\n",
    ".* will return Shortest string which match the condition."
   ]
  },
  {
   "cell_type": "markdown",
   "id": "78801ca5",
   "metadata": {},
   "source": [
    "<b>Q15. What is the syntax for matching both numbers and lowercase letters with a character class?"
   ]
  },
  {
   "cell_type": "markdown",
   "id": "f0282cd2",
   "metadata": {},
   "source": [
    "<b>Ans.</b> For matching both numbers and lowercase letters we can use syntex as [a-z0-9] or [0-9a-z]."
   ]
  },
  {
   "cell_type": "markdown",
   "id": "06ca5769",
   "metadata": {},
   "source": [
    "<b>Q16. What is the procedure for making a normal expression in regax case insensitive?"
   ]
  },
  {
   "cell_type": "markdown",
   "id": "2b643727",
   "metadata": {},
   "source": [
    "<b>Ans.</b> Passing re.IGNORECASE in normal expression make regex case insensitive."
   ]
  },
  {
   "cell_type": "markdown",
   "id": "ab07299e",
   "metadata": {},
   "source": [
    "<b>Q17. What does the . character normally match? What does it match if re.DOTALL is passed as 2nd\n",
    "argument in re.compile()?"
   ]
  },
  {
   "cell_type": "markdown",
   "id": "c2a45234",
   "metadata": {},
   "source": [
    "<b>Ans.</b> The . character matches everything in input except newline character which is a . itself. \n",
    "\n",
    "By passing re.DOTALL as a flag to re.compile(), also match the newline character in input ."
   ]
  },
  {
   "cell_type": "code",
   "execution_count": 3,
   "id": "8c0cb405",
   "metadata": {},
   "outputs": [
    {
     "name": "stdout",
     "output_type": "stream",
     "text": [
      "[]\n",
      "['<p>\\nThis tutorial is provided by Ineuron.\\nHope you like this.\\n</p>']\n"
     ]
    }
   ],
   "source": [
    "import re\n",
    "a = '''<p>\n",
    "This tutorial is provided by Ineuron.\n",
    "Hope you like this.\n",
    "</p>'''\n",
    "x = re.findall(\"<p>.*</p>\", a)\n",
    "y = re.findall(\"<p>.*</p>\", a,re.DOTALL)\n",
    "print(x)\n",
    "print(y)"
   ]
  },
  {
   "cell_type": "markdown",
   "id": "cafe595d",
   "metadata": {},
   "source": [
    "<b>Q18. If numReg = re.compile(r&#39;\\d+&#39;), what will numRegex.sub(&#39;X&#39;, &#39;11 drummers, 10 pipers, five rings, 4\n",
    "hen&#39;) return?"
   ]
  },
  {
   "cell_type": "markdown",
   "id": "440d7d46",
   "metadata": {},
   "source": [
    "<b>Ans.</b> It subsitute the digit with 'X'"
   ]
  },
  {
   "cell_type": "code",
   "execution_count": 7,
   "id": "b334a9db",
   "metadata": {},
   "outputs": [
    {
     "data": {
      "text/plain": [
       "'X drummers, X pipers, five rings, X hen'"
      ]
     },
     "execution_count": 7,
     "metadata": {},
     "output_type": "execute_result"
    }
   ],
   "source": [
    "import re\n",
    "numRegex = re.compile(r'\\d+')\n",
    "numRegex.sub('X', '11 drummers, 10 pipers, five rings, 4 hen')"
   ]
  },
  {
   "cell_type": "markdown",
   "id": "d22bef7f",
   "metadata": {},
   "source": [
    "<b>Q19. What does passing re.VERBOSE as the 2nd argument to re.compile() allow to do?"
   ]
  },
  {
   "cell_type": "markdown",
   "id": "c26ff42e",
   "metadata": {},
   "source": [
    "<b>Ans.</b> The re.VERBOSE argument allows us to add whitespace and comments to the string passed to re.compile()."
   ]
  },
  {
   "cell_type": "code",
   "execution_count": 15,
   "id": "000b124a",
   "metadata": {},
   "outputs": [
    {
     "name": "stdout",
     "output_type": "stream",
     "text": [
      "<re.Match object; span=(0, 53), match='This is Jogender, Doing the Ineuron Regex Assignm>\n",
      "None\n"
     ]
    }
   ],
   "source": [
    "import re\n",
    "# Without Using VERBOSE\n",
    "regex_exapmle1 = re.compile(r'This is Jogender, Doing the Ineuron Regex Assignment.', re.IGNORECASE)\n",
    " \n",
    "# Using VERBOSE\n",
    "regex_exapmle2 = re.compile(r\"\"\"\n",
    "                          This is Jogender,                     #StudentName\n",
    "                          Doing the Ineuron Regex Assignment    #TaskName\n",
    "                         \"\"\",re.VERBOSE | re.IGNORECASE)\n",
    "obj_1 = regex_exapmle1.search('This is Jogender, Doing the Ineuron Regex Assignment.')\n",
    "obj_2 = regex_exapmle2.search('This is Jogender, Doing the Ineuron Regex Assignment.')\n",
    "\n",
    "print(obj_1)\n",
    "print(obj_2)"
   ]
  },
  {
   "cell_type": "markdown",
   "id": "592b69d0",
   "metadata": {},
   "source": [
    "<b>Q20. How would you write a regex that match a number with comma for every three digits? It must\n",
    "match the given following:\n",
    "    \n",
    "<b>'42'\n",
    "    \n",
    "<b>'1,234'\n",
    "    \n",
    "<b>'6,368,745'\n",
    "    \n",
    "<b>but not the following:\n",
    "    \n",
    "<b>'12,34,567' (which has only two digits between the commas)\n",
    "    \n",
    "<b>'1234' (which lacks commas)\n"
   ]
  },
  {
   "cell_type": "markdown",
   "id": "d7122f23",
   "metadata": {},
   "source": [
    "<b>Ans.</b> It can be defined as Follows:"
   ]
  },
  {
   "cell_type": "code",
   "execution_count": 16,
   "id": "3793c6a1",
   "metadata": {},
   "outputs": [
    {
     "name": "stdout",
     "output_type": "stream",
     "text": [
      "String 1 :  <re.Match object; span=(0, 2), match='42'>\n",
      "String 2 :  <re.Match object; span=(0, 5), match='1,234'>\n",
      "String 3 :  <re.Match object; span=(0, 9), match='6,368,745'>\n",
      "String 4 :  None\n",
      "String 5 :  None\n"
     ]
    }
   ],
   "source": [
    "import re\n",
    "myregex = re.compile(r'^\\d{1,3}(,\\d{3})*$')\n",
    "print('String 1 : ',myregex.search('42'))\n",
    "print('String 2 : ',myregex.search('1,234'))\n",
    "print('String 3 : ',myregex.search('6,368,745'))\n",
    "print('String 4 : ',myregex.search('12,34,567'))\n",
    "print('String 5 : ',myregex.search('1234'))"
   ]
  },
  {
   "cell_type": "markdown",
   "id": "0048be98",
   "metadata": {},
   "source": [
    "<b>Q21. How would you write a regex that matches the full name of someone whose last name is Watanabe? You can assume that the first name that comes before it will always be one word that begins with a capital letter. The regex must match the following:\n",
    "\n",
    "<b>'Haruto Watanabe'\n",
    "    \n",
    "<b>'Alice Watanabe'\n",
    "    \n",
    "<b>'RoboCop Watanabe'\n",
    "    \n",
    "<b>but not the following:\n",
    "    \n",
    "<b>'haruto Watanabe' (where the first name is not capitalized)\n",
    "    \n",
    "<b>'Mr. Watanabe' (where the preceding word has a nonletter character)\n",
    "    \n",
    "<b>'Watanabe' (which has no first name)\n",
    "    \n",
    "<b>'Haruto watanabe' (where Watanabe is not capitalized)"
   ]
  },
  {
   "cell_type": "markdown",
   "id": "c1f706f0",
   "metadata": {},
   "source": [
    "<b>Ans.</b> It can be defined as Follows:"
   ]
  },
  {
   "cell_type": "code",
   "execution_count": 17,
   "id": "464f6e77",
   "metadata": {},
   "outputs": [
    {
     "name": "stdout",
     "output_type": "stream",
     "text": [
      "String 1 :  <re.Match object; span=(0, 15), match='Haruto Watanabe'>\n",
      "String 2 :  <re.Match object; span=(0, 14), match='Alice Watanabe'>\n",
      "String 3 :  <re.Match object; span=(4, 16), match='Cop Watanabe'>\n",
      "String 4 :  None\n",
      "String 5 :  None\n",
      "String 6 :  None\n",
      "String 7 :  None\n"
     ]
    }
   ],
   "source": [
    "import re\n",
    "myregex = re.compile(r'[A-Z]{1}[a-z]*\\sWatanabe')\n",
    "print('String 1 : ',myregex.search('Haruto Watanabe'))\n",
    "print('String 2 : ',myregex.search('Alice Watanabe'))\n",
    "print('String 3 : ',myregex.search('RoboCop Watanabe'))\n",
    "print('String 4 : ',myregex.search('haruto Watanabe'))\n",
    "print('String 5 : ',myregex.search('Mr. Watanabe'))\n",
    "print('String 6 : ',myregex.search('Watanabe'))\n",
    "print('String 7 : ',myregex.search('Haruto watanabe'))"
   ]
  },
  {
   "cell_type": "markdown",
   "id": "3ae8bc41",
   "metadata": {},
   "source": [
    "<b>Q22. How would you write a regex that matches a sentence where the first word is either Alice, Bob,or Carol; the second word is either eats, pets, or throws; the third word is apples, cats, or baseballs; and the sentence ends with a period? This regex should be case-insensitive. It must match the following:\n",
    "\n",
    "<b>'Alice eats apples.'\n",
    "    \n",
    "<b>'Bob pets cats.'\n",
    "    \n",
    "<b>'Carol throws baseballs.'\n",
    "    \n",
    "<b>'Alice throws Apples.'\n",
    "    \n",
    "<b>'BOB EATS CATS.'\n",
    "\n",
    "<b>but not the following:\n",
    "\n",
    "<b>'RoboCop eats apples.'\n",
    "    \n",
    "<b>'ALICE THROWS FOOTBALLS.'\n",
    "    \n",
    "<b>'Carol eats 7 cats.'"
   ]
  },
  {
   "cell_type": "markdown",
   "id": "c89c869e",
   "metadata": {},
   "source": [
    "<b>Ans.</b> It can be defined as Follows:"
   ]
  },
  {
   "cell_type": "code",
   "execution_count": 18,
   "id": "48e63d07",
   "metadata": {},
   "outputs": [
    {
     "name": "stdout",
     "output_type": "stream",
     "text": [
      "String 1 :  <re.Match object; span=(0, 18), match='Alice eats apples.'>\n",
      "String 2 :  <re.Match object; span=(0, 14), match='Bob pets cats.'>\n",
      "String 3 :  <re.Match object; span=(0, 23), match='Carol throws baseballs.'>\n",
      "String 4 :  <re.Match object; span=(0, 20), match='Alice throws Apples.'>\n",
      "String 5 :  <re.Match object; span=(0, 14), match='BOB EATS CATS.'>\n",
      "String 6 :  None\n",
      "String 7 :  None\n",
      "String 8 :  None\n"
     ]
    }
   ],
   "source": [
    "import re\n",
    "myregex = re.compile(r'(Alice|Bob|Carol)\\s(eats|pets|throws)\\s(apples|cats|baseballs)\\.',re.IGNORECASE)\n",
    "print('String 1 : ',myregex.search('Alice eats apples.'))\n",
    "print('String 2 : ',myregex.search('Bob pets cats.'))\n",
    "print('String 3 : ',myregex.search('Carol throws baseballs.'))\n",
    "print('String 4 : ',myregex.search('Alice throws Apples.'))\n",
    "print('String 5 : ',myregex.search('BOB EATS CATS.'))\n",
    "print('String 6 : ',myregex.search('RoboCop eats apples.'))\n",
    "print('String 7 : ',myregex.search('ALICE THROWS FOOTBALLS.'))\n",
    "print('String 8 : ',myregex.search('Carol eats 7 cats.'))"
   ]
  },
  {
   "cell_type": "markdown",
   "id": "8bcab7a9",
   "metadata": {},
   "source": [
    "<div align=\"center\"> The End</div>"
   ]
  }
 ],
 "metadata": {
  "kernelspec": {
   "display_name": "Python 3 (ipykernel)",
   "language": "python",
   "name": "python3"
  },
  "language_info": {
   "codemirror_mode": {
    "name": "ipython",
    "version": 3
   },
   "file_extension": ".py",
   "mimetype": "text/x-python",
   "name": "python",
   "nbconvert_exporter": "python",
   "pygments_lexer": "ipython3",
   "version": "3.9.12"
  }
 },
 "nbformat": 4,
 "nbformat_minor": 5
}
