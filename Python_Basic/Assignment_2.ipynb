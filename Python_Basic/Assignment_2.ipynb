{
 "cells": [
  {
   "cell_type": "markdown",
   "id": "12443536",
   "metadata": {},
   "source": [
    "# <center>Assignment - 2\n",
    "<div align=\"right\"> By:Jogender Singh</div>"
   ]
  },
  {
   "cell_type": "markdown",
   "id": "6d10aeb9",
   "metadata": {},
   "source": [
    "<b> 1. What are the two values of the Boolean data type? How do you write them?"
   ]
  },
  {
   "cell_type": "markdown",
   "id": "e3b4be72",
   "metadata": {},
   "source": [
    "<b>Ans.</b> The 2 values of Boolean Data Type are True and False. The correct way to write them is as Follows:\n",
    "\n",
    "        True\n",
    "        False"
   ]
  },
  {
   "cell_type": "markdown",
   "id": "d89aaf17",
   "metadata": {},
   "source": [
    "<b>2. What are the three different types of Boolean operators?"
   ]
  },
  {
   "cell_type": "markdown",
   "id": "2c0a092d",
   "metadata": {},
   "source": [
    "<b>Ans.</b> 3 Boolean operators are\n",
    "\n",
    "        1. and\n",
    "        2. or\n",
    "        3. not"
   ]
  },
  {
   "cell_type": "markdown",
   "id": "6879726e",
   "metadata": {},
   "source": [
    "<b>3. Make a list of each Boolean operator&#39;s truth tables (i.e. every possible combination of Boolean\n",
    "values for the operator and what it evaluate )."
   ]
  },
  {
   "cell_type": "markdown",
   "id": "d966e73b",
   "metadata": {},
   "source": [
    "<b>Ans.</b> Boolean values and Operators combinations are:\n",
    "\n",
    "        1. and\n",
    "            a. True and True = True\n",
    "            b. True and False = False\n",
    "            c. False and True = False\n",
    "            d. False and False = False\n",
    "        2. or\n",
    "            a. True or True = True\n",
    "            b. True or False = True\n",
    "            c. False or True = True\n",
    "            d. False or True = False\n",
    "        3. not\n",
    "            a. not True = False\n",
    "            b. not False = True"
   ]
  },
  {
   "cell_type": "markdown",
   "id": "1c7d31d9",
   "metadata": {},
   "source": [
    "<b>4. What are the values of the following expressions?\n",
    "    \n",
    "<b>(5 &gt; 4) and (3 == 5)\n",
    "    \n",
    "<b>not (5 &gt; 4)\n",
    "\n",
    "<b>(5 &gt; 4) or (3 == 5)\n",
    "\n",
    "<b>not ((5 &gt; 4) or (3 == 5))\n",
    "\n",
    "<b>(True and True) and (True == False)\n",
    "\n",
    "<b>(not False) or (not True)"
   ]
  },
  {
   "cell_type": "markdown",
   "id": "f84dadcb",
   "metadata": {},
   "source": [
    "<b>Ans.</b> Values of given expression is as Follow:"
   ]
  },
  {
   "cell_type": "code",
   "execution_count": 4,
   "id": "2ebfedab",
   "metadata": {},
   "outputs": [
    {
     "name": "stdout",
     "output_type": "stream",
     "text": [
      "(5 > 4) and (3 == 5) is False\n",
      "not (5 > 4) is  False\n",
      "(5 > 4) or (3 == 5) is True\n",
      "not ((5 > 4) or (3 == 5)) is False\n",
      "(True and True) and (True == False) is False\n",
      "(not False) or (not True) is True\n"
     ]
    }
   ],
   "source": [
    "print (\"(5 > 4) and (3 == 5) is\",(5 > 4) and (3 == 5))\n",
    "print (\"not (5 > 4) is \",not (5 > 4))\n",
    "print (\"(5 > 4) or (3 == 5) is\",(5 > 4) or (3 == 5))\n",
    "print (\"not ((5 > 4) or (3 == 5)) is\",not ((5 > 4) or (3 == 5)))\n",
    "print (\"(True and True) and (True == False) is\",(True and True) and (True == False))\n",
    "print (\"(not False) or (not True) is\",(not False) or (not True))"
   ]
  },
  {
   "cell_type": "markdown",
   "id": "75a5fcb3",
   "metadata": {},
   "source": [
    "<b>5. What are the six comparison operators?"
   ]
  },
  {
   "cell_type": "markdown",
   "id": "a7c50350",
   "metadata": {},
   "source": [
    "<b>Ans.</b> Six Comparison Operators are:\n",
    "\n",
    "    1. == (Equal to)\n",
    "    2. => (Equal to or Greater than)\n",
    "    3. <= (Less Than or Equal to)\n",
    "    4. > (Greater than)\n",
    "    5. < (Less than)\n",
    "    6. != (not Equal to)"
   ]
  },
  {
   "cell_type": "markdown",
   "id": "a283641b",
   "metadata": {},
   "source": [
    "<b> 7. Identify the three blocks in this code:\n",
    "    \n",
    "<b>spam = 0\n",
    "    \n",
    "<b>if spam == 10:\n",
    "    \n",
    "<b>print(&#39;eggs&#39;)\n",
    "    \n",
    "<b>if spam &gt; 5:\n",
    "    \n",
    "<b>print(&#39;bacon&#39;)\n",
    "    \n",
    "<b>else:\n",
    "    \n",
    "<b>print(&#39;ham&#39;)\n",
    "    \n",
    "<b>print(&#39;spam&#39;)\n",
    "    \n",
    "<b>print(&#39;spam&#39;)"
   ]
  },
  {
   "cell_type": "markdown",
   "id": "d0607a43",
   "metadata": {},
   "source": [
    "<b>Ans.</b> In Python, code block refers to a collection of code that is in the same block or indent and its part/block of the code executed together. This is most commonly found in classes, functions, and loops."
   ]
  },
  {
   "cell_type": "code",
   "execution_count": 5,
   "id": "7847a77f",
   "metadata": {},
   "outputs": [
    {
     "name": "stdout",
     "output_type": "stream",
     "text": [
      "ham\n",
      "spam\n",
      "spam\n"
     ]
    }
   ],
   "source": [
    "spam = 0\n",
    "\n",
    "#block:1\n",
    "if spam == 10:  \n",
    "    print('eggs')\n",
    "#block:2   \n",
    "if spam > 5:\n",
    "    print('bacon')\n",
    "#block:3   \n",
    "else:\n",
    "    print('ham')\n",
    "\n",
    "print('spam')\n",
    "print('spam')"
   ]
  },
  {
   "cell_type": "markdown",
   "id": "09e2a049",
   "metadata": {},
   "source": [
    "<b>8. Write code that prints Hello if 1 is stored in spam, prints Howdy if 2 is stored in spam, and prints\n",
    "Greetings! if anything else is stored in spam."
   ]
  },
  {
   "cell_type": "markdown",
   "id": "902e2ad8",
   "metadata": {},
   "source": [
    "<b>Ans.</b> The Required code is as Follows:"
   ]
  },
  {
   "cell_type": "code",
   "execution_count": 6,
   "id": "42ff3aff",
   "metadata": {},
   "outputs": [
    {
     "name": "stdout",
     "output_type": "stream",
     "text": [
      "Greetings!\n"
     ]
    }
   ],
   "source": [
    "spam = 3 #change the value of spam\n",
    "\n",
    "if spam == 1:\n",
    "    print(\"Hello\")\n",
    "if spam == 2:\n",
    "    print(\"Howdy\")\n",
    "else:\n",
    "    print(\"Greetings!\")"
   ]
  },
  {
   "cell_type": "markdown",
   "id": "db1d1d6f",
   "metadata": {},
   "source": [
    "<b>9.If your programme is stuck in an endless loop, what keys you’ll press?"
   ]
  },
  {
   "cell_type": "markdown",
   "id": "5d6aec94",
   "metadata": {},
   "source": [
    "<b>Ans.</b> To stop or break the endless loop in python code . we have to press <b>Ctrl+C</b>."
   ]
  },
  {
   "cell_type": "markdown",
   "id": "0a701669",
   "metadata": {},
   "source": [
    "<b>10. How can you tell the difference between break and continue?"
   ]
  },
  {
   "cell_type": "markdown",
   "id": "919d420f",
   "metadata": {},
   "source": [
    "<b>Ans.</b>\n",
    "\n",
    "    break statement: will move the execution outside the loop if break condtion is satisfied. \n",
    "    continue statement: will move the execution to the start of the loop skipping the remaning part of loop."
   ]
  },
  {
   "cell_type": "markdown",
   "id": "99731e4e",
   "metadata": {},
   "source": [
    "<b>11. In a for loop, what is the difference between range(10), range(0, 10), and range(0, 10, 1)?"
   ]
  },
  {
   "cell_type": "markdown",
   "id": "d0fc2785",
   "metadata": {},
   "source": [
    "<b>Ans.</b>\n",
    "\n",
    "    1. range(10) : it will call the range from 0 t0 9.\n",
    "    2. range(0,10): it tells call the range from 0 (or the provided digit)\n",
    "    3. range(0,10,1): it tells the loop to increase the variable value by 1 on each iteration "
   ]
  },
  {
   "cell_type": "markdown",
   "id": "b4f5dbd7",
   "metadata": {},
   "source": [
    "<b>12. Write a short program that prints the numbers 1 to 10 using a for loop. Then write an equivalent\n",
    "program that prints the numbers 1 to 10 using a while loop."
   ]
  },
  {
   "cell_type": "markdown",
   "id": "9e1fc5c0",
   "metadata": {},
   "source": [
    "<b>Ans.<b>"
   ]
  },
  {
   "cell_type": "code",
   "execution_count": 11,
   "id": "4d300087",
   "metadata": {},
   "outputs": [
    {
     "name": "stdout",
     "output_type": "stream",
     "text": [
      "1\n",
      "2\n",
      "3\n",
      "4\n",
      "5\n",
      "6\n",
      "7\n",
      "8\n",
      "9\n",
      "10\n",
      "Alternative way\n",
      "1\n",
      "2\n",
      "3\n",
      "4\n",
      "5\n",
      "6\n",
      "7\n",
      "8\n",
      "9\n",
      "10\n"
     ]
    }
   ],
   "source": [
    "for i in range(1,11):\n",
    "    print(i)\n",
    "    \n",
    "    \n",
    "#Alternative way using while function\n",
    "print(\"Alternative way\")\n",
    "j = 1\n",
    "while (j <= 10):\n",
    "    print(j)\n",
    "    j= j+1"
   ]
  },
  {
   "cell_type": "markdown",
   "id": "cfb54da8",
   "metadata": {},
   "source": [
    "<b>13. If you had a function named bacon() inside a module named spam, how would you call it after\n",
    "importing spam?"
   ]
  },
  {
   "cell_type": "markdown",
   "id": "963af53d",
   "metadata": {},
   "source": [
    "<b>Ans.</b> We will call the  given function as follows:\n",
    "\n",
    "       import spam\n",
    "       spam.bacon() #calling the function"
   ]
  },
  {
   "cell_type": "markdown",
   "id": "11b8c993",
   "metadata": {},
   "source": [
    "### <center>---- The End -----"
   ]
  }
 ],
 "metadata": {
  "kernelspec": {
   "display_name": "Python 3 (ipykernel)",
   "language": "python",
   "name": "python3"
  },
  "language_info": {
   "codemirror_mode": {
    "name": "ipython",
    "version": 3
   },
   "file_extension": ".py",
   "mimetype": "text/x-python",
   "name": "python",
   "nbconvert_exporter": "python",
   "pygments_lexer": "ipython3",
   "version": "3.9.12"
  }
 },
 "nbformat": 4,
 "nbformat_minor": 5
}
