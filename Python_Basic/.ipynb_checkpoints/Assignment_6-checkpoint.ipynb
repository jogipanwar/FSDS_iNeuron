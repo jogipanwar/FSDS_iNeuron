{
 "cells": [
  {
   "cell_type": "markdown",
   "id": "381d4906",
   "metadata": {},
   "source": [
    "# <center>Assignment - 6\n",
    "<div align=\"right\"> By:Jogender Singh</div>"
   ]
  },
  {
   "cell_type": "markdown",
   "id": "59ea51a5",
   "metadata": {},
   "source": [
    "<b>Q1. What are escape characters, and how do you use them?"
   ]
  },
  {
   "cell_type": "markdown",
   "id": "08999e89",
   "metadata": {},
   "source": [
    "<b>Ans.</b>\n",
    "Escape character is a backslash \\ followed by the character you want to insert.To insert illegal characters (which we can't normally use in string), We use Escape character.\n",
    "\n",
    "Eg: \\n , \\t and \\r etc."
   ]
  },
  {
   "cell_type": "markdown",
   "id": "d313e0ab",
   "metadata": {},
   "source": [
    "<b>Q2. What do the escape characters n and t stand for?"
   ]
  },
  {
   "cell_type": "markdown",
   "id": "b1ff0ecc",
   "metadata": {},
   "source": [
    "<b>Ans.</b> \\n represent new line in string and \\t represent a tab in string."
   ]
  },
  {
   "cell_type": "code",
   "execution_count": 5,
   "id": "6b1d1c3e",
   "metadata": {},
   "outputs": [
    {
     "name": "stdout",
     "output_type": "stream",
     "text": [
      "New Line : Hello\n",
      "World\n",
      "Tab: Hello\tWorld\n"
     ]
    }
   ],
   "source": [
    "print('New Line : Hello\\nWorld')\n",
    "print('Tab: Hello\\tWorld')"
   ]
  },
  {
   "cell_type": "markdown",
   "id": "bcd1960e",
   "metadata": {},
   "source": [
    "<b>Q3. What is the way to include backslash characters in a string?"
   ]
  },
  {
   "cell_type": "markdown",
   "id": "680709c3",
   "metadata": {},
   "source": [
    "<b>Ans.</b>\n",
    "We can use \\\\ for include backslash characters in a string."
   ]
  },
  {
   "cell_type": "code",
   "execution_count": 8,
   "id": "ef9f3d24",
   "metadata": {},
   "outputs": [
    {
     "name": "stdout",
     "output_type": "stream",
     "text": [
      "Hello \\ World\n"
     ]
    }
   ],
   "source": [
    "print('Hello \\\\ World')"
   ]
  },
  {
   "cell_type": "markdown",
   "id": "de18ed0b",
   "metadata": {},
   "source": [
    "<b>Q4. The string \"Howl's Moving Castle\" is a correct value. Why isn't the single quote character in the\n",
    "word Howl's not escaped a problem?"
   ]
  },
  {
   "cell_type": "markdown",
   "id": "5470e872",
   "metadata": {},
   "source": [
    "<b>Ans.</b>\n",
    "It is a correct string because single quote inside the double quote enclosed string not require \\ (Escape Characatr). It's vice -verca scenario is also valid."
   ]
  },
  {
   "cell_type": "code",
   "execution_count": 9,
   "id": "d1f5df1e",
   "metadata": {},
   "outputs": [
    {
     "name": "stdout",
     "output_type": "stream",
     "text": [
      "Howl's Moving Castle\n"
     ]
    }
   ],
   "source": [
    "print(\"Howl's Moving Castle\")"
   ]
  },
  {
   "cell_type": "markdown",
   "id": "e590c734",
   "metadata": {},
   "source": [
    "<b>Q5. How do you write a string of newlines if you don't want to use the n character?"
   ]
  },
  {
   "cell_type": "markdown",
   "id": "40c1281c",
   "metadata": {},
   "source": [
    "<b>Ans.</b> A string enclosed with ''' could be typed in multiline mode. "
   ]
  },
  {
   "cell_type": "code",
   "execution_count": 10,
   "id": "4b93a4da",
   "metadata": {},
   "outputs": [
    {
     "name": "stdout",
     "output_type": "stream",
     "text": [
      "This is Line 1.\n",
      "This is Line 2.\n"
     ]
    }
   ],
   "source": [
    "MyStr = '''This is Line 1.\n",
    "This is Line 2.'''\n",
    "print(MyStr)"
   ]
  },
  {
   "cell_type": "markdown",
   "id": "5e8f7ef6",
   "metadata": {},
   "source": [
    "<b>Q6. What are the values of the given expressions?\n",
    "    \n",
    "<b>'Hello, world!'[1]\n",
    "    \n",
    "<b>'Hello, world!'[0:5]\n",
    "    \n",
    "<b>'Hello, world!'[:5]\n",
    "    \n",
    "<b>'Hello, world!'[3:]"
   ]
  },
  {
   "cell_type": "markdown",
   "id": "c49fb721",
   "metadata": {},
   "source": [
    "<b>Ans.</b>\n",
    "Values are as Follows:"
   ]
  },
  {
   "cell_type": "code",
   "execution_count": 11,
   "id": "2a95b4f3",
   "metadata": {},
   "outputs": [
    {
     "name": "stdout",
     "output_type": "stream",
     "text": [
      "e\n",
      "Hello\n",
      "Hello\n",
      "lo, world!\n"
     ]
    }
   ],
   "source": [
    "print('Hello, world!'[1])\n",
    "print('Hello, world!'[0:5])\n",
    "print('Hello, world!'[:5])\n",
    "print('Hello, world!'[3:])"
   ]
  },
  {
   "cell_type": "markdown",
   "id": "ce4f73ee",
   "metadata": {},
   "source": [
    "<b>Q7. What are the values of the following expressions?\n",
    "    \n",
    "<b>'Hello'.upper()\n",
    "    \n",
    "<b>'Hello'.upper().isupper()\n",
    "    \n",
    "<b>'Hello'.upper().lower()\n"
   ]
  },
  {
   "cell_type": "markdown",
   "id": "30bb7b70",
   "metadata": {},
   "source": [
    "<b>Ans.</b>\n",
    "Values are as Follows:"
   ]
  },
  {
   "cell_type": "code",
   "execution_count": 14,
   "id": "43f4a4eb",
   "metadata": {},
   "outputs": [
    {
     "name": "stdout",
     "output_type": "stream",
     "text": [
      "HELLO\n",
      "True\n",
      "hello\n"
     ]
    }
   ],
   "source": [
    "print('Hello'.upper())\n",
    "\n",
    "print('Hello'.upper().isupper())\n",
    "\n",
    "print('Hello'.upper().lower())"
   ]
  },
  {
   "cell_type": "markdown",
   "id": "b22dd436",
   "metadata": {},
   "source": [
    "<b>Q8. What are the values of the following expressions?\n",
    "    \n",
    "<b> 'Remember, remember, the fifth of July.'.split()\n",
    "    \n",
    "<b>'-'.join('There can only one.'.split())"
   ]
  },
  {
   "cell_type": "markdown",
   "id": "de42091e",
   "metadata": {},
   "source": [
    "<b>Ans.</b>\n",
    "First Expression will split the string over space and return a list of word.\n",
    "\n",
    "Second Expression will split the string over space then join the words with '-'. "
   ]
  },
  {
   "cell_type": "code",
   "execution_count": 15,
   "id": "1435ecc1",
   "metadata": {},
   "outputs": [
    {
     "name": "stdout",
     "output_type": "stream",
     "text": [
      "['Remember,', 'remember,', 'the', 'fifth', 'of', 'July.']\n",
      "There-can-only-one.\n"
     ]
    }
   ],
   "source": [
    "print('Remember, remember, the fifth of July.'.split())\n",
    "\n",
    "print('-'.join('There can only one.'.split()))"
   ]
  },
  {
   "cell_type": "markdown",
   "id": "7a6b9a99",
   "metadata": {},
   "source": [
    "<b>Q9. What are the methods for right-justifying, left-justifying, and centering a string?"
   ]
  },
  {
   "cell_type": "markdown",
   "id": "4fd2f8e3",
   "metadata": {},
   "source": [
    "<b>Ans.</b> We can align string by following methods:"
   ]
  },
  {
   "cell_type": "code",
   "execution_count": 18,
   "id": "5ff3a1c0",
   "metadata": {},
   "outputs": [
    {
     "name": "stdout",
     "output_type": "stream",
     "text": [
      "The original string is : \n",
      " Hello Folks!!! Jogender is Here. \n",
      "\n",
      "The right aligned string is : \n",
      "********************************************************************Hello Folks!!! Jogender is Here.\n",
      "The left aligned string is : \n",
      "Hello Folks!!! Jogender is Here.********************************************************************\n",
      "The center aligned string is : \n",
      "**********************************Hello Folks!!! Jogender is Here.**********************************\n"
     ]
    }
   ],
   "source": [
    "intro = 'Hello Folks!!! Jogender is Here.'\n",
    "print (\"The original string is : \\n\", intro, \"\\n\")\n",
    "\n",
    "\n",
    "print (\"The right aligned string is : \")\n",
    "print (intro.rjust(100, '*'))\n",
    "print (\"The left aligned string is : \")\n",
    "print (intro.ljust(100, '*'))\n",
    "print (\"The center aligned string is : \")\n",
    "print (intro.center(100, '*'))"
   ]
  },
  {
   "cell_type": "markdown",
   "id": "d77a3183",
   "metadata": {},
   "source": [
    "<b>Q10. What is the best way to remove whitespace characters from the start or end?"
   ]
  },
  {
   "cell_type": "markdown",
   "id": "b4a019a6",
   "metadata": {},
   "source": [
    "<b>Ans.</b> strip(), rstrip() and lstrip() is used to remove character from start or end of the string."
   ]
  },
  {
   "cell_type": "code",
   "execution_count": 21,
   "id": "d2549e12",
   "metadata": {},
   "outputs": [
    {
     "name": "stdout",
     "output_type": "stream",
     "text": [
      "The original string is :\n",
      "***Hello Folks!!! Jogender is Here.***\n",
      "\n",
      "After removing space from start of the string:\n",
      "***Hello Folks!!! Jogender is Here.\n",
      "\n",
      "After removing space from start of the string:\n",
      "Hello Folks!!! Jogender is Here.***\n",
      "\n",
      "After removing space from start & end of the string:\n",
      "Hello Folks!!! Jogender is Here.\n",
      "\n"
     ]
    }
   ],
   "source": [
    "intro = '***Hello Folks!!! Jogender is Here.***' \n",
    "removechar = '*'\n",
    "print (\"The original string is :\")\n",
    "print(intro+\"\\n\")\n",
    "\n",
    "intro1 = intro.rstrip(removechar)\n",
    "print (\"After removing space from start of the string:\")\n",
    "print (intro1+\"\\n\")\n",
    "\n",
    "\n",
    "intro2 = intro.lstrip(removechar)\n",
    "print (\"After removing space from start of the string:\")\n",
    "print (intro2+\"\\n\")\n",
    "\n",
    "intro3 = intro.strip(removechar)\n",
    "print (\"After removing space from start & end of the string:\")\n",
    "print (intro3+\"\\n\")"
   ]
  },
  {
   "cell_type": "markdown",
   "id": "8bcab7a9",
   "metadata": {},
   "source": [
    "<div align=\"center\"> The End</div>"
   ]
  }
 ],
 "metadata": {
  "kernelspec": {
   "display_name": "Python 3 (ipykernel)",
   "language": "python",
   "name": "python3"
  },
  "language_info": {
   "codemirror_mode": {
    "name": "ipython",
    "version": 3
   },
   "file_extension": ".py",
   "mimetype": "text/x-python",
   "name": "python",
   "nbconvert_exporter": "python",
   "pygments_lexer": "ipython3",
   "version": "3.9.12"
  }
 },
 "nbformat": 4,
 "nbformat_minor": 5
}
