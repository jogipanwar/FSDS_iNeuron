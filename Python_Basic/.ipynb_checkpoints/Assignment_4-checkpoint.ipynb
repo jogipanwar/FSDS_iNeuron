{
 "cells": [
  {
   "cell_type": "markdown",
   "id": "381d4906",
   "metadata": {},
   "source": [
    "# <center>Assignment - 4\n",
    "<div align=\"right\"> By:Jogender Singh</div>"
   ]
  },
  {
   "cell_type": "markdown",
   "id": "59ea51a5",
   "metadata": {},
   "source": [
    "<b>Q1. What exactly is [ ]?"
   ]
  },
  {
   "cell_type": "markdown",
   "id": "08999e89",
   "metadata": {},
   "source": [
    "<b>Ans.</b>\n",
    "In Python [ ] represent empty list. The length of an empty list is 0."
   ]
  },
  {
   "cell_type": "code",
   "execution_count": 2,
   "id": "8c98c8e6",
   "metadata": {},
   "outputs": [
    {
     "name": "stdout",
     "output_type": "stream",
     "text": [
      "0\n"
     ]
    }
   ],
   "source": [
    "l = []  # an empty list\n",
    "print(len(l))"
   ]
  },
  {
   "cell_type": "markdown",
   "id": "d313e0ab",
   "metadata": {},
   "source": [
    "<b>Q2. In a list of values stored in a variable called spam, how would you assign the value &#39;hello&#39; as the\n",
    "third value? (Assume [2, 4, 6, 8, 10] are in spam.)"
   ]
  },
  {
   "cell_type": "markdown",
   "id": "b1ff0ecc",
   "metadata": {},
   "source": [
    "<b>Ans.</b>\n",
    "We can do this as mentioned below:"
   ]
  },
  {
   "cell_type": "code",
   "execution_count": 3,
   "id": "6b1d1c3e",
   "metadata": {},
   "outputs": [
    {
     "name": "stdout",
     "output_type": "stream",
     "text": [
      "[2, 4, 'hello', 8, 10]\n"
     ]
    }
   ],
   "source": [
    "spam = [2,4,6,8,10]\n",
    "spam[2] = 'hello'  # replacing value at 3rd index\n",
    "print(spam)"
   ]
  },
  {
   "cell_type": "markdown",
   "id": "bcd1960e",
   "metadata": {},
   "source": [
    "### Let&#39;s pretend the spam includes the list [&#39;a&#39;, &#39;b&#39;, &#39;c&#39;, &#39;d&#39;] for the next three queries.\n",
    "\n",
    "<b>Q3. What is the value of spam[int(int(&#39;3&#39; * 2) / 11)]?"
   ]
  },
  {
   "cell_type": "markdown",
   "id": "680709c3",
   "metadata": {},
   "source": [
    "<b>Ans.</b>\n",
    "In 'spam[int(int('3' * 2) / 11)]' datatype of 3 is string, hence multiplying it 2 give value '33'.Now '33' is converted to an integer and divide by 11 and again converted to integer which simplify this as 'spam[3]'. The final output will be 'd'.\n"
   ]
  },
  {
   "cell_type": "code",
   "execution_count": 4,
   "id": "5598884a",
   "metadata": {},
   "outputs": [
    {
     "name": "stdout",
     "output_type": "stream",
     "text": [
      "d\n",
      "d\n"
     ]
    }
   ],
   "source": [
    "spam = ['a','b','c','d']\n",
    "print(spam[3])\n",
    "print(spam[int(int('3' * 2) / 11)])"
   ]
  },
  {
   "cell_type": "markdown",
   "id": "de18ed0b",
   "metadata": {},
   "source": [
    "<b>Q4. What is the value of spam[-1]?"
   ]
  },
  {
   "cell_type": "markdown",
   "id": "5470e872",
   "metadata": {},
   "source": [
    "<b>Ans.</b>\n",
    "It will give first value from the end of the list which is 'd' here."
   ]
  },
  {
   "cell_type": "code",
   "execution_count": 5,
   "id": "d1f5df1e",
   "metadata": {},
   "outputs": [
    {
     "name": "stdout",
     "output_type": "stream",
     "text": [
      "d\n"
     ]
    }
   ],
   "source": [
    "spam = ['a','b','c','d']\n",
    "print(spam[-1])"
   ]
  },
  {
   "cell_type": "markdown",
   "id": "5e8f7ef6",
   "metadata": {},
   "source": [
    "<b>Q5. What is the value of spam[:2]?"
   ]
  },
  {
   "cell_type": "markdown",
   "id": "c49fb721",
   "metadata": {},
   "source": [
    "<b>Ans.</b>\n",
    "It will slice the list till index 2(starting from 0) and in[0:2] the index 2 will be not included."
   ]
  },
  {
   "cell_type": "code",
   "execution_count": 6,
   "id": "981d5fb3",
   "metadata": {},
   "outputs": [
    {
     "name": "stdout",
     "output_type": "stream",
     "text": [
      "['a', 'b']\n"
     ]
    }
   ],
   "source": [
    "spam = ['a','b','c','d']\n",
    "print(spam[0:2])"
   ]
  },
  {
   "cell_type": "markdown",
   "id": "e590c734",
   "metadata": {},
   "source": [
    "### Let&#39;s pretend bacon has the list [3.14, &#39;cat,&#39; 11, &#39;cat,&#39; True] for the next three questions.\n",
    "\n",
    "<b>Q6. What is the value of bacon.index(&#39;cat&#39;)?"
   ]
  },
  {
   "cell_type": "markdown",
   "id": "40c1281c",
   "metadata": {},
   "source": [
    "<b>Ans.</b>\n",
    "It will return first index of cat, which is 1 here."
   ]
  },
  {
   "cell_type": "code",
   "execution_count": 9,
   "id": "399870fd",
   "metadata": {},
   "outputs": [
    {
     "name": "stdout",
     "output_type": "stream",
     "text": [
      "1\n"
     ]
    }
   ],
   "source": [
    "bacon = [3.14, 'cat', 11, 'cat', True]\n",
    "print(bacon.index('cat'))"
   ]
  },
  {
   "cell_type": "markdown",
   "id": "ce4f73ee",
   "metadata": {},
   "source": [
    "<b>Q7. How does bacon.append(99) change the look of the list value in bacon?"
   ]
  },
  {
   "cell_type": "markdown",
   "id": "30bb7b70",
   "metadata": {},
   "source": [
    "<b>Ans.</b>\n",
    "It will add new element 99 at the end of the list."
   ]
  },
  {
   "cell_type": "code",
   "execution_count": 10,
   "id": "43f4a4eb",
   "metadata": {},
   "outputs": [
    {
     "name": "stdout",
     "output_type": "stream",
     "text": [
      "[3.14, 'cat', 11, 'cat', True, 99]\n"
     ]
    }
   ],
   "source": [
    "bacon = [3.14, 'cat', 11, 'cat', True]\n",
    "bacon.append(99)\n",
    "print(bacon)"
   ]
  },
  {
   "cell_type": "markdown",
   "id": "b22dd436",
   "metadata": {},
   "source": [
    "<b>Q8. How does bacon.remove(&#39;cat&#39;) change the look of the list in bacon?"
   ]
  },
  {
   "cell_type": "markdown",
   "id": "de42091e",
   "metadata": {},
   "source": [
    "<b>Ans.</b>\n",
    "It remove first occurance of 'cat' element from the bacon list."
   ]
  },
  {
   "cell_type": "code",
   "execution_count": 11,
   "id": "1435ecc1",
   "metadata": {},
   "outputs": [
    {
     "name": "stdout",
     "output_type": "stream",
     "text": [
      "[3.14, 11, 'cat', True, 99]\n"
     ]
    }
   ],
   "source": [
    "bacon = [3.14, 'cat', 11, 'cat', True, 99]\n",
    "bacon.remove('cat')\n",
    "print(bacon)"
   ]
  },
  {
   "cell_type": "markdown",
   "id": "8fc3650a",
   "metadata": {},
   "source": [
    "<b>Q9. What are the list concatenation and list replication operators?"
   ]
  },
  {
   "cell_type": "markdown",
   "id": "819ae96f",
   "metadata": {},
   "source": [
    "<b>Ans.</b>\n",
    "'+' Operator will do the concatenation operation in list and '*' operator will do replication operation for the list."
   ]
  },
  {
   "cell_type": "code",
   "execution_count": 12,
   "id": "0bf4e4f0",
   "metadata": {},
   "outputs": [
    {
     "name": "stdout",
     "output_type": "stream",
     "text": [
      "[1, 2, 3, 4, 5, 5, 'cat', 'panda', 'dog', 3.7]\n",
      "['panda', 'dog', 3.7, 'panda', 'dog', 3.7]\n"
     ]
    }
   ],
   "source": [
    "l1 = [1,2,3,4,5,5,'cat']\n",
    "l2 = ['panda','dog',3.7]\n",
    "\n",
    "concatedlist = l1+l2\n",
    "replicatedlist = l2*2\n",
    "print(concatedlist)\n",
    "print(replicatedlist)"
   ]
  },
  {
   "cell_type": "markdown",
   "id": "a54dc598",
   "metadata": {},
   "source": [
    "<b>Q10. What is difference between the list methods append() and insert()?"
   ]
  },
  {
   "cell_type": "markdown",
   "id": "0464ed0b",
   "metadata": {},
   "source": [
    "<b>Ans.</b>\n",
    "append() method add element at end of the list and insert method will add element at specific index."
   ]
  },
  {
   "cell_type": "code",
   "execution_count": 14,
   "id": "1e826b27",
   "metadata": {},
   "outputs": [
    {
     "name": "stdout",
     "output_type": "stream",
     "text": [
      "[1, 2, 3, 4, 5, 5, 'cat', 3.7]\n",
      "[1, 2, 3, 'panda', 4, 5, 5, 'cat', 3.7]\n"
     ]
    }
   ],
   "source": [
    "l1 = [1,2,3,4,5,5,'cat']\n",
    "l1.append(3.7)\n",
    "print(l1)\n",
    "l1.insert(3,'panda')\n",
    "print(l1)"
   ]
  },
  {
   "cell_type": "markdown",
   "id": "86224a29",
   "metadata": {},
   "source": [
    "<b>Q11. What are the two methods for removing items from a list?"
   ]
  },
  {
   "cell_type": "markdown",
   "id": "ac8eee02",
   "metadata": {},
   "source": [
    "<b>Ans.</b> The 2 methods are as follows:\n",
    "\n",
    "remove(): It remove first occurance of element from the list.\n",
    "\n",
    "pop(): It remove element from list at specified index."
   ]
  },
  {
   "cell_type": "code",
   "execution_count": 15,
   "id": "209f4682",
   "metadata": {},
   "outputs": [
    {
     "name": "stdout",
     "output_type": "stream",
     "text": [
      "[1, 2, 3, 'panda', 4, 5, 'cat', 3.7]\n",
      "[1, 2, 'panda', 4, 5, 'cat', 3.7]\n"
     ]
    }
   ],
   "source": [
    "l = [1, 2, 3, 'panda', 4, 5, 5, 'cat', 3.7]\n",
    "l.remove(5)\n",
    "print(l)\n",
    "l.pop(2)  #remove element from index 2\n",
    "print(l)"
   ]
  },
  {
   "cell_type": "markdown",
   "id": "c9714833",
   "metadata": {},
   "source": [
    "<b>Q12. Describe how list values and string values are identical."
   ]
  },
  {
   "cell_type": "markdown",
   "id": "f49fe7a2",
   "metadata": {},
   "source": [
    "<b>Ans.</b>\n",
    "Both Lists and strings have indexes, hence could be sliced and can be used in loops and supports operator like concatenation(+) & replication(*)."
   ]
  },
  {
   "cell_type": "markdown",
   "id": "ade228fa",
   "metadata": {},
   "source": [
    "<b>Q13. What&#39;s the difference between tuples and lists?"
   ]
  },
  {
   "cell_type": "markdown",
   "id": "2ecba884",
   "metadata": {},
   "source": [
    "<b>Ans.</b>\n",
    "Tuples() and List[ ] both are indexed and can be sliced. The major differnece is elments inside the list are mutable(can be modified) but  elments inside the tuples are immutable(can't be modified)."
   ]
  },
  {
   "cell_type": "markdown",
   "id": "3e52d19d",
   "metadata": {},
   "source": [
    "<b>Q14. How do you type a tuple value that only contains the integer 42?"
   ]
  },
  {
   "cell_type": "markdown",
   "id": "3561f8d8",
   "metadata": {},
   "source": [
    "<b>Ans.</b>\n",
    "For the single element in tuples a trailing comma is required"
   ]
  },
  {
   "cell_type": "code",
   "execution_count": 17,
   "id": "836f05bd",
   "metadata": {},
   "outputs": [
    {
     "name": "stdout",
     "output_type": "stream",
     "text": [
      "<class 'int'>\n",
      "<class 'str'>\n",
      "<class 'tuple'>\n"
     ]
    }
   ],
   "source": [
    "myt = (42)\n",
    "myt2 = ('abc')\n",
    "myt3 = (42,)\n",
    "print(type(myt))\n",
    "print(type(myt2))\n",
    "print(type(myt3))"
   ]
  },
  {
   "cell_type": "markdown",
   "id": "807848e6",
   "metadata": {},
   "source": [
    "<b>Q15. How do you get a list value&#39;s tuple form? How do you get a tuple value&#39;s list form?"
   ]
  },
  {
   "cell_type": "markdown",
   "id": "1087bc24",
   "metadata": {},
   "source": [
    "<b>Ans.</b>\n",
    "It can be done as follows:"
   ]
  },
  {
   "cell_type": "code",
   "execution_count": 23,
   "id": "be20e52f",
   "metadata": {},
   "outputs": [
    {
     "name": "stdout",
     "output_type": "stream",
     "text": [
      "Type of mylist and mytuples:\n",
      "<class 'list'> ['panda', 'dog', 3.7]\n",
      "<class 'tuple'> (1, 2, 3, 'panda', 4, 5, 5, 'cat', 3.7)\n",
      "Type of mylist2 and mytuples2:\n",
      "<class 'list'> [1, 2, 3, 'panda', 4, 5, 5, 'cat', 3.7]\n",
      "<class 'tuple'> ('panda', 'dog', 3.7)\n"
     ]
    }
   ],
   "source": [
    "mylist = ['panda','dog',3.7]\n",
    "mytuples= (1, 2, 3, 'panda', 4, 5, 5, 'cat', 3.7)\n",
    "print('Type of mylist and mytuples:')\n",
    "print(type(mylist2),mylist)\n",
    "print(type(mytuples2),mytuples)\n",
    "\n",
    "mylist2 = list(mytuples)\n",
    "mytuples2 = tuple(mylist)\n",
    "print('Type of mylist2 and mytuples2:')\n",
    "print(type(mylist2),mylist2)\n",
    "print(type(mytuples2),mytuples2)"
   ]
  },
  {
   "cell_type": "markdown",
   "id": "5993ba50",
   "metadata": {},
   "source": [
    "<b>Q16. Variables that &quot;contain&quot; list values are not necessarily lists themselves. Instead, what do they\n",
    "contain?"
   ]
  },
  {
   "cell_type": "markdown",
   "id": "6d2dfd11",
   "metadata": {},
   "source": [
    "<b>Ans.</b>\n",
    "List variables not necessarily containing lists always, they can contain references to list also. "
   ]
  },
  {
   "cell_type": "markdown",
   "id": "2075bd4b",
   "metadata": {},
   "source": [
    "<b>Q17. How do you distinguish between copy.copy() and copy.deepcopy()?"
   ]
  },
  {
   "cell_type": "markdown",
   "id": "5e1b9ee4",
   "metadata": {},
   "source": [
    "<b>Ans.</b>\n",
    "copy.copy() will copy the list elements only but copy.deepcopy() will copy the element of list inside the list also."
   ]
  },
  {
   "cell_type": "code",
   "execution_count": 31,
   "id": "8630debc",
   "metadata": {},
   "outputs": [
    {
     "name": "stdout",
     "output_type": "stream",
     "text": [
      "copy.copy() Result:  ['panda', 'dog', [3.7, 3.8, 3.9]]\n",
      "copy.deepcopy() Result:  ['panda', 'dog', [3.7, 3.8, 3.9]]\n",
      "2188363601344 2188363603008 2188363603392\n",
      "2188362829296 2188362829296 2188362829296\n",
      "2188363602752 2188363602752 2188363601664\n"
     ]
    }
   ],
   "source": [
    "import copy\n",
    "\n",
    "mylist = ['panda', 'dog', [3.7,3.8,3.9]]\n",
    "mylist2 = copy.copy(mylist)\n",
    "mylist3 = copy.deepcopy(mylist)\n",
    "\n",
    "print('copy.copy() Result: ',mylist2)\n",
    "print('copy.deepcopy() Result: ',mylist3)\n",
    "print(id(mylist), id(mylist2),id(mylist3))\n",
    "print(id(mylist[2][2]), id(mylist2[2][2]),id(mylist3[2][2]))\n",
    "print(id(mylist[2]), id(mylist2[2]),id(mylist3[2]))"
   ]
  },
  {
   "cell_type": "markdown",
   "id": "8bcab7a9",
   "metadata": {},
   "source": [
    "<div align=\"center\"> The End</div>"
   ]
  }
 ],
 "metadata": {
  "kernelspec": {
   "display_name": "Python 3 (ipykernel)",
   "language": "python",
   "name": "python3"
  },
  "language_info": {
   "codemirror_mode": {
    "name": "ipython",
    "version": 3
   },
   "file_extension": ".py",
   "mimetype": "text/x-python",
   "name": "python",
   "nbconvert_exporter": "python",
   "pygments_lexer": "ipython3",
   "version": "3.9.12"
  }
 },
 "nbformat": 4,
 "nbformat_minor": 5
}
