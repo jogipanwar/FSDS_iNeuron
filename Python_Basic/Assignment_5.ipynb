{
 "cells": [
  {
   "cell_type": "markdown",
   "id": "381d4906",
   "metadata": {},
   "source": [
    "# <center>Assignment - 5\n",
    "<div align=\"right\"> By:Jogender Singh</div>"
   ]
  },
  {
   "cell_type": "markdown",
   "id": "59ea51a5",
   "metadata": {},
   "source": [
    "<b>Q1. What does an empty dictionary's code look like?"
   ]
  },
  {
   "cell_type": "markdown",
   "id": "08999e89",
   "metadata": {},
   "source": [
    "<b>Ans.</b>\n",
    "In Python { } represent empty dictionary."
   ]
  },
  {
   "cell_type": "code",
   "execution_count": 3,
   "id": "8c98c8e6",
   "metadata": {},
   "outputs": [
    {
     "data": {
      "text/plain": [
       "dict"
      ]
     },
     "execution_count": 3,
     "metadata": {},
     "output_type": "execute_result"
    }
   ],
   "source": [
    "d = {}  # an empty dictionary\n",
    "type(d)"
   ]
  },
  {
   "cell_type": "markdown",
   "id": "d313e0ab",
   "metadata": {},
   "source": [
    "<b>Q2. What is the value of a dictionary value with the key 'foo' and the value 42?"
   ]
  },
  {
   "cell_type": "markdown",
   "id": "b1ff0ecc",
   "metadata": {},
   "source": [
    "<b>Ans.</b>"
   ]
  },
  {
   "cell_type": "code",
   "execution_count": 5,
   "id": "6b1d1c3e",
   "metadata": {},
   "outputs": [
    {
     "name": "stdout",
     "output_type": "stream",
     "text": [
      "42\n"
     ]
    }
   ],
   "source": [
    "d = {'foo':42}\n",
    "print(d['foo'])"
   ]
  },
  {
   "cell_type": "markdown",
   "id": "bcd1960e",
   "metadata": {},
   "source": [
    "<b>Q3. What is the most significant distinction between a dictionary and a list?"
   ]
  },
  {
   "cell_type": "markdown",
   "id": "680709c3",
   "metadata": {},
   "source": [
    "<b>Ans.</b>\n",
    "List : The elements are accessed through indexes.\n",
    "\n",
    "Dictionary:  The elements are accessed through key-values pair."
   ]
  },
  {
   "cell_type": "markdown",
   "id": "de18ed0b",
   "metadata": {},
   "source": [
    "<b>Q4. What happens if you try to access spam['foo'] if spam is {'bar': 100}?"
   ]
  },
  {
   "cell_type": "markdown",
   "id": "5470e872",
   "metadata": {},
   "source": [
    "<b>Ans.</b>\n",
    "It will give Key Error because it look for  value corresponding to key 'foo' in dictionary 'spam'."
   ]
  },
  {
   "cell_type": "code",
   "execution_count": 6,
   "id": "d1f5df1e",
   "metadata": {},
   "outputs": [
    {
     "ename": "KeyError",
     "evalue": "'foo'",
     "output_type": "error",
     "traceback": [
      "\u001b[1;31m---------------------------------------------------------------------------\u001b[0m",
      "\u001b[1;31mKeyError\u001b[0m                                  Traceback (most recent call last)",
      "Input \u001b[1;32mIn [6]\u001b[0m, in \u001b[0;36m<cell line: 2>\u001b[1;34m()\u001b[0m\n\u001b[0;32m      1\u001b[0m spam \u001b[38;5;241m=\u001b[39m {\u001b[38;5;124m'\u001b[39m\u001b[38;5;124mbar\u001b[39m\u001b[38;5;124m'\u001b[39m: \u001b[38;5;241m100\u001b[39m}\n\u001b[1;32m----> 2\u001b[0m \u001b[43mspam\u001b[49m\u001b[43m[\u001b[49m\u001b[38;5;124;43m'\u001b[39;49m\u001b[38;5;124;43mfoo\u001b[39;49m\u001b[38;5;124;43m'\u001b[39;49m\u001b[43m]\u001b[49m\n",
      "\u001b[1;31mKeyError\u001b[0m: 'foo'"
     ]
    }
   ],
   "source": [
    "spam = {'bar': 100}\n",
    "spam['foo']"
   ]
  },
  {
   "cell_type": "markdown",
   "id": "5e8f7ef6",
   "metadata": {},
   "source": [
    "<b>Q5. If a dictionary is stored in spam, what is the difference between the expressions 'cat' in spam and\n",
    "'cat' in spam.keys()?"
   ]
  },
  {
   "cell_type": "markdown",
   "id": "c49fb721",
   "metadata": {},
   "source": [
    "<b>Ans.</b>\n",
    "There will be no difference . Both the expressions checks whether a value exits as a key in the dictionary or not."
   ]
  },
  {
   "cell_type": "markdown",
   "id": "e590c734",
   "metadata": {},
   "source": [
    "<b>Q6. . If a dictionary is stored in spam, what is the difference between the expressions 'cat' in spam and 'cat' in spam.values()?"
   ]
  },
  {
   "cell_type": "markdown",
   "id": "40c1281c",
   "metadata": {},
   "source": [
    "<b>Ans.</b>'cat' in spam : Checks whether there is a 'cat' key in the dictionary.\n",
    "\n",
    "'cat' in spam.values(): Checks whether there is a value 'cat' for one of the keys in spam."
   ]
  },
  {
   "cell_type": "markdown",
   "id": "ce4f73ee",
   "metadata": {},
   "source": [
    "<b>Q7. What is a shortcut for the following code?\n",
    "    \n",
    "<b>if 'color' not in spam:\n",
    "    \n",
    "  <b> spam['color'] = 'black';"
   ]
  },
  {
   "cell_type": "markdown",
   "id": "30bb7b70",
   "metadata": {},
   "source": [
    "<b>Ans.</b>\n",
    "We can use setdefault(key,value) for the given code.\n"
   ]
  },
  {
   "cell_type": "code",
   "execution_count": 9,
   "id": "43f4a4eb",
   "metadata": {},
   "outputs": [
    {
     "name": "stdout",
     "output_type": "stream",
     "text": [
      "{'cat': 11, 'dog': True, 'color': 'black'}\n"
     ]
    }
   ],
   "source": [
    "d = {'cat':11, 'dog':True}\n",
    "d.setdefault('color','black')\n",
    "print(d)"
   ]
  },
  {
   "cell_type": "markdown",
   "id": "b22dd436",
   "metadata": {},
   "source": [
    "<b>Q8. How do you \"pretty print\" dictionary values using which module and function?"
   ]
  },
  {
   "cell_type": "markdown",
   "id": "de42091e",
   "metadata": {},
   "source": [
    "<b>Ans.</b>\n",
    "Pretty printing means to present something in a more readable format or style.\n",
    "\n",
    "1. Using pprint()\n",
    "2. Using json.dumps()\n",
    "3. Using yaml.dump()"
   ]
  },
  {
   "cell_type": "code",
   "execution_count": 20,
   "id": "1435ecc1",
   "metadata": {},
   "outputs": [
    {
     "name": "stdout",
     "output_type": "stream",
     "text": [
      "Using Normal Print\n",
      "[{'Name': 'John', 'Age': '23', 'Country': 'USA'}, {'Name': 'Jose', 'Age': '44', 'Country': 'Spain'}, {'Name': 'Anne', 'Age': '29', 'Country': 'UK'}, {'Name': 'Lee', 'Age': '35', 'Country': 'Japan'}]\n",
      "****************************************************************************************************\n",
      "Using pprint()\n",
      "****************************************************************************************************\n",
      "[{'Age': '23', 'Country': 'USA', 'Name': 'John'},\n",
      " {'Age': '44', 'Country': 'Spain', 'Name': 'Jose'},\n",
      " {'Age': '29', 'Country': 'UK', 'Name': 'Anne'},\n",
      " {'Age': '35', 'Country': 'Japan', 'Name': 'Lee'}]\n",
      "****************************************************************************************************\n",
      "Using json.dumps()\n",
      "****************************************************************************************************\n",
      "[\n",
      "    {\n",
      "        \"Name\": \"John\",\n",
      "        \"Age\": \"23\",\n",
      "        \"Country\": \"USA\"\n",
      "    },\n",
      "    {\n",
      "        \"Name\": \"Jose\",\n",
      "        \"Age\": \"44\",\n",
      "        \"Country\": \"Spain\"\n",
      "    },\n",
      "    {\n",
      "        \"Name\": \"Anne\",\n",
      "        \"Age\": \"29\",\n",
      "        \"Country\": \"UK\"\n",
      "    },\n",
      "    {\n",
      "        \"Name\": \"Lee\",\n",
      "        \"Age\": \"35\",\n",
      "        \"Country\": \"Japan\"\n",
      "    }\n",
      "]\n",
      "****************************************************************************************************\n",
      "Using yaml.dump()\n",
      "****************************************************************************************************\n",
      "- Name: John\n",
      "  Age: '23'\n",
      "  Country: USA\n",
      "- Name: Jose\n",
      "  Age: '44'\n",
      "  Country: Spain\n",
      "- Name: Anne\n",
      "  Age: '29'\n",
      "  Country: UK\n",
      "- Name: Lee\n",
      "  Age: '35'\n",
      "  Country: Japan\n",
      "\n"
     ]
    }
   ],
   "source": [
    "import pprint\n",
    "\n",
    "dict_list = [\n",
    "  {'Name': 'John', 'Age': '23', 'Country': 'USA'},\n",
    "  {'Name': 'Jose', 'Age': '44', 'Country': 'Spain'},\n",
    "  {'Name': 'Anne', 'Age': '29', 'Country': 'UK'},\n",
    "  {'Name': 'Lee', 'Age': '35', 'Country': 'Japan'}\n",
    "]\n",
    "\n",
    "#normal print\n",
    "print('Using Normal Print')\n",
    "print(dict_list)\n",
    "\n",
    "#Using pprint()\n",
    "print('**'*50)\n",
    "print('Using pprint()')\n",
    "print('**'*50)\n",
    "pprint.pprint(dict_list)\n",
    "\n",
    "#Using json.dumps()\n",
    "import json\n",
    "print('**'*50)\n",
    "print('Using json.dumps()')\n",
    "print('**'*50)\n",
    "print(json.dumps(dict_list, sort_keys=False, indent=4))\n",
    "\n",
    "\n",
    "\n",
    "#import yaml\n",
    "import yaml\n",
    "print('**'*50)\n",
    "print('Using yaml.dump()')\n",
    "print('**'*50)\n",
    "print(yaml.dump(dict_list, sort_keys=False, default_flow_style=False))"
   ]
  },
  {
   "cell_type": "markdown",
   "id": "8bcab7a9",
   "metadata": {},
   "source": [
    "<div align=\"center\"> The End</div>"
   ]
  }
 ],
 "metadata": {
  "kernelspec": {
   "display_name": "Python 3 (ipykernel)",
   "language": "python",
   "name": "python3"
  },
  "language_info": {
   "codemirror_mode": {
    "name": "ipython",
    "version": 3
   },
   "file_extension": ".py",
   "mimetype": "text/x-python",
   "name": "python",
   "nbconvert_exporter": "python",
   "pygments_lexer": "ipython3",
   "version": "3.9.12"
  }
 },
 "nbformat": 4,
 "nbformat_minor": 5
}
