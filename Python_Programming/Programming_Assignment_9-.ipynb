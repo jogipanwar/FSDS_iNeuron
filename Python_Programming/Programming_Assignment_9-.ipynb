{
 "cells": [
  {
   "cell_type": "markdown",
   "id": "a8129687",
   "metadata": {},
   "source": [
    "# <center>Programming Assignment - 9\n",
    "<div align=\"right\"> By:Jogender Singh</div>"
   ]
  },
  {
   "cell_type": "markdown",
   "id": "c158581b",
   "metadata": {},
   "source": [
    "<b>Q1. Write a Python program to check if the given number is a Disarium Number?"
   ]
  },
  {
   "cell_type": "markdown",
   "id": "eb624bec",
   "metadata": {},
   "source": [
    "<b>Ans.</b>"
   ]
  },
  {
   "cell_type": "code",
   "execution_count": 5,
   "id": "b7771ba7",
   "metadata": {},
   "outputs": [
    {
     "name": "stdout",
     "output_type": "stream",
     "text": [
      "Enter an integer to check Disarium: 175\n",
      "Given Integer is a Disarium Number\n"
     ]
    }
   ],
   "source": [
    "import math\n",
    "\n",
    "def Disarium_check(n):\n",
    "    s = 0\n",
    "    for i in range(len(n)):\n",
    "        s += math.pow(int(n[i]),i+1)\n",
    "    if s == int(n) :\n",
    "        print('Given Integer is a Disarium Number')\n",
    "    else:\n",
    "        print('Given Integer is not a Disarium Number')\n",
    "    \n",
    "num = input('Enter an integer to check Disarium: ')\n",
    "Disarium_check(num)"
   ]
  },
  {
   "cell_type": "markdown",
   "id": "1dec4b19",
   "metadata": {},
   "source": [
    "<b>Q2. Write a Python program to print all disarium numbers between 1 to 100?"
   ]
  },
  {
   "cell_type": "markdown",
   "id": "33ea80b8",
   "metadata": {},
   "source": [
    "<b>Ans.</b> "
   ]
  },
  {
   "cell_type": "code",
   "execution_count": 9,
   "id": "ec76e03b",
   "metadata": {},
   "outputs": [
    {
     "name": "stdout",
     "output_type": "stream",
     "text": [
      "Disarium numbers between 1 to 100:\n",
      "1\n",
      "2\n",
      "3\n",
      "4\n",
      "5\n",
      "6\n",
      "7\n",
      "8\n",
      "9\n",
      "89\n"
     ]
    }
   ],
   "source": [
    "import math\n",
    "\n",
    "def Disarium_range():\n",
    "    for i in range(1,101):\n",
    "        s = 0\n",
    "        n = str(i)\n",
    "        for j in range(len(n)):\n",
    "            s += math.pow(int(n[j]),j+1)\n",
    "        if s == int(n) :\n",
    "            print(i)\n",
    "print('Disarium numbers between 1 to 100:')\n",
    "Disarium_range()          "
   ]
  },
  {
   "cell_type": "markdown",
   "id": "a8d1e843",
   "metadata": {},
   "source": [
    "<b>Q3. Write a Python program to check if the given number is Happy Number?"
   ]
  },
  {
   "cell_type": "markdown",
   "id": "bb0b9086",
   "metadata": {},
   "source": [
    "<b>Ans.</b> "
   ]
  },
  {
   "cell_type": "code",
   "execution_count": 20,
   "id": "f1fdd2ec",
   "metadata": {},
   "outputs": [
    {
     "name": "stdout",
     "output_type": "stream",
     "text": [
      "Enter an integer to check Happy Number: 7\n",
      "Given Integer is a Happy Number\n"
     ]
    }
   ],
   "source": [
    "import math\n",
    "\n",
    "def HappyNumber_check(n):\n",
    "    s = 0\n",
    "    for i in range(len(n)):\n",
    "        s += math.pow(int(n[i]),2)\n",
    "    if s == 1:\n",
    "        print('Given Integer is a Happy Number')\n",
    "    elif s == 4:\n",
    "        print('Given Integer is not a Happy Number')\n",
    "    else:\n",
    "        HappyNumber_check(str(int(s)))\n",
    "        #print(str(int(s)))\n",
    "            \n",
    "    \n",
    "num = input('Enter an integer to check Happy Number: ')\n",
    "\n",
    "HappyNumber_check(num)"
   ]
  },
  {
   "cell_type": "markdown",
   "id": "e681e882",
   "metadata": {},
   "source": [
    "<b> Q4. Write a Python program to print all happy numbers between 1 and 100?"
   ]
  },
  {
   "cell_type": "markdown",
   "id": "6a631c11",
   "metadata": {},
   "source": [
    "<b>Ans.</b> "
   ]
  },
  {
   "cell_type": "code",
   "execution_count": 31,
   "id": "aad2387b",
   "metadata": {},
   "outputs": [
    {
     "name": "stdout",
     "output_type": "stream",
     "text": [
      "List of happy numbers between 1 and 100: \n",
      "1\n",
      "7\n",
      "10\n",
      "13\n",
      "19\n",
      "23\n",
      "28\n",
      "31\n",
      "32\n",
      "44\n",
      "49\n",
      "68\n",
      "70\n",
      "79\n",
      "82\n",
      "86\n",
      "91\n",
      "94\n",
      "97\n",
      "100\n"
     ]
    }
   ],
   "source": [
    "import math\n",
    "\n",
    "def isHappyNumber(num):  \n",
    "    r = s = 0;   \n",
    "    #Calculates the sum of squares of digits  \n",
    "    while(num > 0):  \n",
    "        r = num%10;  \n",
    "        s = s + math.pow(r,2);  \n",
    "        num = num//10;  \n",
    "    return s;\n",
    "print(\"List of happy numbers between 1 and 100: \");  \n",
    "for i in range(1, 101):  \n",
    "    result = i;  \n",
    "    \n",
    "    while(result != 1 and result != 4):  \n",
    "        result = isHappyNumber(result);  \n",
    "      \n",
    "    if(result == 1):  \n",
    "        print(i) \n"
   ]
  },
  {
   "cell_type": "markdown",
   "id": "5f17071c",
   "metadata": {},
   "source": [
    "<b>Q5. Write a Python program to determine whether the given number is a Harshad Number?"
   ]
  },
  {
   "cell_type": "markdown",
   "id": "c38cc030",
   "metadata": {},
   "source": [
    "<b>Ans.</b> "
   ]
  },
  {
   "cell_type": "code",
   "execution_count": 33,
   "id": "9da2ea39",
   "metadata": {
    "scrolled": true
   },
   "outputs": [
    {
     "name": "stdout",
     "output_type": "stream",
     "text": [
      "Enter an integer to check Harshad Number: 18\n",
      "Given Integer is a Harshad Number\n"
     ]
    }
   ],
   "source": [
    "def HarshadNumber_check(n):\n",
    "    s = 0\n",
    "    for i in range(len(n)):\n",
    "        s += int(n[i])\n",
    "    if int(n)%s == 0 :\n",
    "        print('Given Integer is a Harshad Number')\n",
    "    else:\n",
    "        print('Given Integer is not a Harshad Number')\n",
    "\n",
    "            \n",
    "    \n",
    "num = input('Enter an integer to check Harshad Number: ')\n",
    "\n",
    "HarshadNumber_check(num)"
   ]
  },
  {
   "cell_type": "markdown",
   "id": "a9d4baef",
   "metadata": {},
   "source": [
    "<b>Q6. Write a Python program to print all pronic numbers between 1 and 100?"
   ]
  },
  {
   "cell_type": "markdown",
   "id": "cec40ccd",
   "metadata": {},
   "source": [
    "<b>Ans.</b> "
   ]
  },
  {
   "cell_type": "code",
   "execution_count": 36,
   "id": "759ef2e6",
   "metadata": {
    "scrolled": true
   },
   "outputs": [
    {
     "name": "stdout",
     "output_type": "stream",
     "text": [
      "Pronic numbers between 1 and 100: \n",
      "2\n",
      "6\n",
      "12\n",
      "20\n",
      "30\n",
      "42\n",
      "56\n",
      "72\n",
      "90\n"
     ]
    }
   ],
   "source": [
    "def pronic_check(n):\n",
    "    flag = False;    \n",
    "    for j in range(1, n+1):\n",
    "        if((j*(j+1)) == n):  \n",
    "            flag = True;  \n",
    "            break;  \n",
    "    return flag; \n",
    "print(\"Pronic numbers between 1 and 100: \");  \n",
    "for i in range(1, 101):  \n",
    "    if(pronic_check(i)):  \n",
    "        print(i)"
   ]
  },
  {
   "cell_type": "markdown",
   "id": "2c994dd4",
   "metadata": {},
   "source": [
    "<center>The End"
   ]
  }
 ],
 "metadata": {
  "kernelspec": {
   "display_name": "Python 3 (ipykernel)",
   "language": "python",
   "name": "python3"
  },
  "language_info": {
   "codemirror_mode": {
    "name": "ipython",
    "version": 3
   },
   "file_extension": ".py",
   "mimetype": "text/x-python",
   "name": "python",
   "nbconvert_exporter": "python",
   "pygments_lexer": "ipython3",
   "version": "3.9.12"
  }
 },
 "nbformat": 4,
 "nbformat_minor": 5
}
