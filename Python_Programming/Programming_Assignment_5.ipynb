{
 "cells": [
  {
   "cell_type": "markdown",
   "id": "a8129687",
   "metadata": {},
   "source": [
    "# <center>Programming Assignment - 5\n",
    "<div align=\"right\"> By:Jogender Singh</div>"
   ]
  },
  {
   "cell_type": "markdown",
   "id": "c158581b",
   "metadata": {},
   "source": [
    "<b>Q1. Write a Python Program to Find LCM?"
   ]
  },
  {
   "cell_type": "markdown",
   "id": "eb624bec",
   "metadata": {},
   "source": [
    "<b>Ans.</b>"
   ]
  },
  {
   "cell_type": "code",
   "execution_count": 5,
   "id": "b7771ba7",
   "metadata": {},
   "outputs": [
    {
     "name": "stdout",
     "output_type": "stream",
     "text": [
      "Enter First Integer for LCM: 4\n",
      "Enter First Integer for LCM: 6\n",
      "LCM for 4 and 6 is: 12\n"
     ]
    }
   ],
   "source": [
    "def find_lcm(x,y):\n",
    "    if x>=y:\n",
    "        big_int = x\n",
    "    else:\n",
    "        big_int = y\n",
    "    while (True):\n",
    "        if ((big_int % x == 0) and (big_int % y == 0)):\n",
    "            lcm = big_int\n",
    "            break;\n",
    "        else:\n",
    "            big_int  += 1\n",
    "    print('LCM for {} and {} is: {}'.format(x,y,big_int))\n",
    "            \n",
    "X = int(input('Enter First Integer for LCM: '))\n",
    "Y = int(input('Enter First Integer for LCM: '))\n",
    "\n",
    "find_lcm(X,Y)"
   ]
  },
  {
   "cell_type": "markdown",
   "id": "1dec4b19",
   "metadata": {},
   "source": [
    "###### <b>Q2. Write a Python Program to Find HCF?"
   ]
  },
  {
   "cell_type": "markdown",
   "id": "33ea80b8",
   "metadata": {},
   "source": [
    "<b>Ans.</b> "
   ]
  },
  {
   "cell_type": "code",
   "execution_count": 7,
   "id": "ec76e03b",
   "metadata": {},
   "outputs": [
    {
     "name": "stdout",
     "output_type": "stream",
     "text": [
      "Enter First Integer for HCF: 16\n",
      "Enter First Integer for HCF: 48\n",
      "HCF for 16 and 48 is: 16\n"
     ]
    }
   ],
   "source": [
    "def find_hcf(x,y):\n",
    "    i = 1\n",
    "    while(i <= x and i <= y):\n",
    "        if(x % i == 0 and y % i == 0):\n",
    "            hcf = i\n",
    "        i = i + 1\n",
    "    print('HCF for {} and {} is: {}'.format(x,y,hcf))\n",
    "            \n",
    "X = int(input('Enter First Integer for HCF: '))\n",
    "Y = int(input('Enter First Integer for HCF: '))\n",
    "\n",
    "find_hcf(X,Y)"
   ]
  },
  {
   "cell_type": "markdown",
   "id": "a8d1e843",
   "metadata": {},
   "source": [
    "<b>Q3. Write a Python Program to Convert Decimal to Binary, Octal and Hexadecimal?"
   ]
  },
  {
   "cell_type": "markdown",
   "id": "bb0b9086",
   "metadata": {},
   "source": [
    "<b>Ans.</b> "
   ]
  },
  {
   "cell_type": "code",
   "execution_count": 10,
   "id": "f1fdd2ec",
   "metadata": {},
   "outputs": [
    {
     "name": "stdout",
     "output_type": "stream",
     "text": [
      "Enter An Integer: 1234\n",
      "The decimal value of 1234 is: \n",
      "The binary value of 0b10011010010 is: \n",
      "The octal value of 0o2322 is: \n",
      "The hexadecimal value of 0x4d2 is: \n"
     ]
    }
   ],
   "source": [
    "'''\n",
    "Decimal Number:        This is a base ten numbering system. A number is represented by 10 numbers (0-9) in this system.\n",
    "Binary Number:         The binary number system is a base two number system. A number is represented (0 and 1).\n",
    "Octal Number:          Octal system is a base 8 numbering system.\n",
    "Hexadecimal Number:    The Hexadecimal number system is a base 16 number system.\n",
    "'''\n",
    "Decimal_Number = int(input('Enter An Integer: '))\n",
    "\n",
    "print('The decimal value of {} is: '.format(Decimal_Number))\n",
    "print('The binary value of {} is: '.format(bin(Decimal_Number)))\n",
    "print('The octal value of {} is: '.format(oct(Decimal_Number)))\n",
    "print('The hexadecimal value of {} is: '.format(hex(Decimal_Number)))"
   ]
  },
  {
   "cell_type": "markdown",
   "id": "e681e882",
   "metadata": {},
   "source": [
    "<b> Q4. Write a Python Program To Find ASCII value of a character?"
   ]
  },
  {
   "cell_type": "markdown",
   "id": "6a631c11",
   "metadata": {},
   "source": [
    "<b>Ans.</b> "
   ]
  },
  {
   "cell_type": "code",
   "execution_count": 11,
   "id": "aad2387b",
   "metadata": {},
   "outputs": [
    {
     "name": "stdout",
     "output_type": "stream",
     "text": [
      "Enter a Character: D\n",
      "The ASCII value of D is: 68\n"
     ]
    }
   ],
   "source": [
    "str_char = input('Enter a Character: ')\n",
    "print('The ASCII value of {} is: {}'.format(str_char,ord(str_char)))"
   ]
  },
  {
   "cell_type": "markdown",
   "id": "5f17071c",
   "metadata": {},
   "source": [
    "<b>Q5. Write a Python Program to Make a Simple Calculator with 4 basic mathematical operations?"
   ]
  },
  {
   "cell_type": "markdown",
   "id": "c38cc030",
   "metadata": {},
   "source": [
    "<b>Ans.</b> "
   ]
  },
  {
   "cell_type": "code",
   "execution_count": 18,
   "id": "9da2ea39",
   "metadata": {
    "scrolled": true
   },
   "outputs": [
    {
     "name": "stdout",
     "output_type": "stream",
     "text": [
      "Enter First Integer: 47\n",
      "Arithmetic Operation:         \n",
      " 1.Addition          (+)         \n",
      " 2.Division          (-)        \n",
      " 3.Multiplication    (*)        \n",
      " 4.Division          (/)\n",
      "Enter An Arithmetic Operation: /\n",
      "Enter Second Integer: 7\n",
      "47 / 7 = 6.714285714285714\n"
     ]
    }
   ],
   "source": [
    "import operator\n",
    "\n",
    "ops = { \"+\": operator.add, \"-\": operator.sub, \"*\":operator.mul, \"/\":operator.truediv }\n",
    "First_Number = int(input('Enter First Integer: '))\n",
    "print('Arithmetic Operation: \\\n",
    "        \\n 1.Addition          (+) \\\n",
    "        \\n 2.Division          (-)\\\n",
    "        \\n 3.Multiplication    (*)\\\n",
    "        \\n 4.Division          (/)')\n",
    "        \n",
    "operation = input('Enter An Arithmetic Operation: ')\n",
    "Second_Number = int(input('Enter Second Integer: '))\n",
    "print('{} {} {} = {}'.format(First_Number,operation,Second_Number,ops[operation](First_Number,Second_Number)))"
   ]
  },
  {
   "cell_type": "markdown",
   "id": "2c994dd4",
   "metadata": {},
   "source": [
    "<center>The End"
   ]
  }
 ],
 "metadata": {
  "kernelspec": {
   "display_name": "Python 3 (ipykernel)",
   "language": "python",
   "name": "python3"
  },
  "language_info": {
   "codemirror_mode": {
    "name": "ipython",
    "version": 3
   },
   "file_extension": ".py",
   "mimetype": "text/x-python",
   "name": "python",
   "nbconvert_exporter": "python",
   "pygments_lexer": "ipython3",
   "version": "3.9.12"
  }
 },
 "nbformat": 4,
 "nbformat_minor": 5
}
