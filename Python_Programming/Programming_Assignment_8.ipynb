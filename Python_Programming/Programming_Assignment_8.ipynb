{
 "cells": [
  {
   "cell_type": "markdown",
   "id": "a8129687",
   "metadata": {},
   "source": [
    "# <center>Programming Assignment - 8\n",
    "<div align=\"right\"> By:Jogender Singh</div>"
   ]
  },
  {
   "cell_type": "markdown",
   "id": "c158581b",
   "metadata": {},
   "source": [
    "<b>Q1. Write a Python Program to Add Two Matrices?"
   ]
  },
  {
   "cell_type": "markdown",
   "id": "eb624bec",
   "metadata": {},
   "source": [
    "<b>Ans.</b>"
   ]
  },
  {
   "cell_type": "code",
   "execution_count": 7,
   "id": "b7771ba7",
   "metadata": {},
   "outputs": [
    {
     "name": "stdout",
     "output_type": "stream",
     "text": [
      "Enter Matrix 1 (3*3):\n",
      "1\n",
      "2\n",
      "3\n",
      "4\n",
      "5\n",
      "6\n",
      "7\n",
      "8\n",
      "9\n",
      "Matrix 1 is: \n",
      "[1, 2, 3]\n",
      "[4, 5, 6]\n",
      "[7, 8, 9]\n",
      "Enter Matrix 2 (3*3):\n",
      "1\n",
      "2\n",
      "3\n",
      "4\n",
      "5\n",
      "6\n",
      "7\n",
      "8\n",
      "9\n",
      "Matrix 2 is: \n",
      "[1, 2, 3]\n",
      "[4, 5, 6]\n",
      "[7, 8, 9]\n",
      "\n",
      "The Addition matrix is: \n",
      "\n",
      "[2, 4, 6]\n",
      "[8, 10, 12]\n",
      "[14, 16, 18]\n"
     ]
    }
   ],
   "source": [
    "def sum_of_metrics(m1,m2):\n",
    "    r = [[0 for i in range(3)] for i in range(3)]\n",
    "    print('\\nThe Addition matrix is: \\n')\n",
    "    for i in range(3):\n",
    "        for j in range(3):\n",
    "            r[i][j] = m1[i][j] + m2[i][j]\n",
    "        print(r[i])\n",
    "\n",
    "print(\"Enter Matrix 1 (3*3):\")\n",
    "m1 = [[int(input()) for i in range(3)] for i in range(3)]\n",
    "print(\"Matrix 1 is: \")\n",
    "for n in m1:\n",
    "   print(n)\n",
    "\n",
    "print(\"Enter Matrix 2 (3*3):\")\n",
    "m2 = [[int(input()) for i in range(3)] for i in range(3)]\n",
    "print(\"Matrix 2 is: \")\n",
    "for n in m2:\n",
    "   print(n)\n",
    "\n",
    "sum_of_metrics(m1,m2)\n"
   ]
  },
  {
   "cell_type": "markdown",
   "id": "1dec4b19",
   "metadata": {},
   "source": [
    "<b>Q2. Write a Python Program to Multiply Two Matrices?"
   ]
  },
  {
   "cell_type": "markdown",
   "id": "33ea80b8",
   "metadata": {},
   "source": [
    "<b>Ans.</b> "
   ]
  },
  {
   "cell_type": "code",
   "execution_count": 16,
   "id": "ec76e03b",
   "metadata": {},
   "outputs": [
    {
     "name": "stdout",
     "output_type": "stream",
     "text": [
      "Enter Matrix 1 (3*3):\n",
      "1\n",
      "2\n",
      "3\n",
      "4\n",
      "5\n",
      "6\n",
      "7\n",
      "8\n",
      "9\n",
      "Matrix 1 is: \n",
      "[1, 2, 3]\n",
      "[4, 5, 6]\n",
      "[7, 8, 9]\n",
      "Enter Matrix 2 (3*3):\n",
      "1\n",
      "2\n",
      "3\n",
      "4\n",
      "5\n",
      "6\n",
      "7\n",
      "8\n",
      "9\n",
      "Matrix 2 is: \n",
      "[1, 2, 3]\n",
      "[4, 5, 6]\n",
      "[7, 8, 9]\n",
      "\n",
      "The Multiplied matrix is: \n",
      "\n",
      "[30, 36, 42]\n",
      "[66, 81, 96]\n",
      "[102, 126, 150]\n"
     ]
    }
   ],
   "source": [
    "def multiply_metrics(m1,m2):\n",
    "    r = [[0 for i in range(3)] for i in range(3)]\n",
    "    print('\\nThe Multiplied matrix is: \\n')\n",
    "    for i in range(3):\n",
    "        for j in range(3):\n",
    "            for k in range(3):\n",
    "                r[i][j] = r[i][j]+ m1[i][k]*m2[k][j]\n",
    "        print(r[i])\n",
    "\n",
    "print(\"Enter Matrix 1 (3*3):\")\n",
    "m1 = [[int(input()) for i in range(3)] for i in range(3)]\n",
    "print(\"Matrix 1 is: \")\n",
    "for n in m1:\n",
    "   print(n)\n",
    "\n",
    "print(\"Enter Matrix 2 (3*3):\")\n",
    "m2 = [[int(input()) for i in range(3)] for i in range(3)]\n",
    "print(\"Matrix 2 is: \")\n",
    "for n in m2:\n",
    "   print(n)\n",
    "\n",
    "multiply_metrics(m1,m2)"
   ]
  },
  {
   "cell_type": "markdown",
   "id": "a8d1e843",
   "metadata": {},
   "source": [
    "<b>Q3. Write a Python Program to Transpose a Matrix?"
   ]
  },
  {
   "cell_type": "markdown",
   "id": "bb0b9086",
   "metadata": {},
   "source": [
    "<b>Ans.</b> "
   ]
  },
  {
   "cell_type": "code",
   "execution_count": 19,
   "id": "f1fdd2ec",
   "metadata": {},
   "outputs": [
    {
     "name": "stdout",
     "output_type": "stream",
     "text": [
      "Enter Matrix for Transpose (3*3):\n",
      "1\n",
      "2\n",
      "3\n",
      "4\n",
      "5\n",
      "6\n",
      "7\n",
      "8\n",
      "9\n",
      "Matrix 1 is: \n",
      "[1, 2, 3]\n",
      "[4, 5, 6]\n",
      "[7, 8, 9]\n",
      "\n",
      "The Transposed matrix is: \n",
      "\n",
      "[1, 4, 7]\n",
      "[2, 5, 8]\n",
      "[3, 6, 9]\n"
     ]
    }
   ],
   "source": [
    "def transpose_metrix(m):\n",
    "    tm = [[0 for i in range(3)] for i in range(3)]\n",
    "    print('\\nThe Transposed matrix is: \\n')\n",
    "    for i in range(3):\n",
    "        for j in range(3):\n",
    "            tm[i][j] = m[j][i]\n",
    "        print(tm[i])     \n",
    "\n",
    "print(\"Enter Matrix for Transpose (3*3):\")\n",
    "m = [[int(input()) for i in range(3)] for i in range(3)]\n",
    "print(\"Matrix 1 is: \")\n",
    "for n in m:\n",
    "   print(n)\n",
    "\n",
    "transpose_metrix(m)"
   ]
  },
  {
   "cell_type": "markdown",
   "id": "e681e882",
   "metadata": {},
   "source": [
    "<b> Q4. Write a Python Program to Sort Words in Alphabetic Order?"
   ]
  },
  {
   "cell_type": "markdown",
   "id": "6a631c11",
   "metadata": {},
   "source": [
    "<b>Ans.</b> "
   ]
  },
  {
   "cell_type": "code",
   "execution_count": 24,
   "id": "aad2387b",
   "metadata": {},
   "outputs": [
    {
     "name": "stdout",
     "output_type": "stream",
     "text": [
      "How many words you want to enter for sorting: 5\n",
      "Hello\n",
      "my\n",
      "name\n",
      "is\n",
      "jogender\n",
      "Sorted Words in Alphabetic Order\n",
      "Hello\n",
      "is\n",
      "jogender\n",
      "my\n",
      "name\n"
     ]
    }
   ],
   "source": [
    "def sorted_words(m):\n",
    "    sl = sorted(m)\n",
    "    print('Sorted Words in Alphabetic Order')\n",
    "    for i in sl:\n",
    "        print(i)\n",
    "\n",
    "m = int(input('How many words you want to enter for sorting: '))\n",
    "wl =[]\n",
    "for i in range(m):\n",
    "    wl.append(input())\n",
    "sorted_words(wl)"
   ]
  },
  {
   "cell_type": "markdown",
   "id": "5f17071c",
   "metadata": {},
   "source": [
    "<b>Q5. Write a Python Program to Remove Punctuation From a String?"
   ]
  },
  {
   "cell_type": "markdown",
   "id": "c38cc030",
   "metadata": {},
   "source": [
    "<b>Ans.</b> "
   ]
  },
  {
   "cell_type": "code",
   "execution_count": 29,
   "id": "9da2ea39",
   "metadata": {
    "scrolled": true
   },
   "outputs": [
    {
     "name": "stdout",
     "output_type": "stream",
     "text": [
      "Enter a string: my @#$ address is %$% 321B $!! Baker Street\n",
      "String after removing punctuation:  my  address is  321B  Baker Street\n"
     ]
    }
   ],
   "source": [
    "'''\n",
    "Punctuation in a String\n",
    "!()-[]{};:'\"\\,<>./?@#$%^&*_\n",
    "'''\n",
    "def removing_punc(my_str):\n",
    "    punc_str = '''!()-[]{};:'\"\\,<>./?@#$%^&*_~'''\n",
    "    cleaned_string = ''\n",
    "    for alpha in my_str:\n",
    "        if alpha not in punc_str:\n",
    "            cleaned_string += alpha\n",
    "    print('String after removing punctuation: ',cleaned_string)\n",
    "\n",
    "\n",
    "my_str = input('Enter a string: ')\n",
    "\n",
    "removing_punc(my_str)"
   ]
  },
  {
   "cell_type": "markdown",
   "id": "2c994dd4",
   "metadata": {},
   "source": [
    "<center>The End"
   ]
  }
 ],
 "metadata": {
  "kernelspec": {
   "display_name": "Python 3 (ipykernel)",
   "language": "python",
   "name": "python3"
  },
  "language_info": {
   "codemirror_mode": {
    "name": "ipython",
    "version": 3
   },
   "file_extension": ".py",
   "mimetype": "text/x-python",
   "name": "python",
   "nbconvert_exporter": "python",
   "pygments_lexer": "ipython3",
   "version": "3.9.12"
  }
 },
 "nbformat": 4,
 "nbformat_minor": 5
}
