{
 "cells": [
  {
   "cell_type": "markdown",
   "id": "a8129687",
   "metadata": {},
   "source": [
    "# <center>Programming Assignment - 11\n",
    "<div align=\"right\"> By:Jogender Singh</div>"
   ]
  },
  {
   "cell_type": "markdown",
   "id": "c158581b",
   "metadata": {},
   "source": [
    "<b>Q1. Write a Python program to find words which are greater than given length k?"
   ]
  },
  {
   "cell_type": "markdown",
   "id": "eb624bec",
   "metadata": {},
   "source": [
    "<b>Ans.</b>"
   ]
  },
  {
   "cell_type": "code",
   "execution_count": 2,
   "id": "b7771ba7",
   "metadata": {},
   "outputs": [
    {
     "name": "stdout",
     "output_type": "stream",
     "text": [
      "Enter the string: This is Python program to find words which are greater than given length k\n",
      "Enter the length k to filter the string: 4\n",
      "Python,program,words,which,greater,given,length\n"
     ]
    }
   ],
   "source": [
    "def words_of_k_length(input_str,length_k):\n",
    "    output_str = []\n",
    "    for word in input_str.split(\" \"):\n",
    "        if len(word) > length_k:\n",
    "            output_str.append(word)\n",
    "    print(','.join(output_str))\n",
    "        \n",
    "input_str = input(\"Enter the string: \")\n",
    "input_criteria_length = int(input('Enter the length k to filter the string: '))\n",
    "\n",
    "words_of_k_length(input_str,input_criteria_length)\n"
   ]
  },
  {
   "cell_type": "markdown",
   "id": "1dec4b19",
   "metadata": {},
   "source": [
    "<b>Q2. Write a Python program for removing i-th character from a string?"
   ]
  },
  {
   "cell_type": "markdown",
   "id": "33ea80b8",
   "metadata": {},
   "source": [
    "<b>Ans.</b> "
   ]
  },
  {
   "cell_type": "code",
   "execution_count": 6,
   "id": "ec76e03b",
   "metadata": {},
   "outputs": [
    {
     "name": "stdout",
     "output_type": "stream",
     "text": [
      "Enter the string: JogenderSingh\n",
      "Enter the character postion: 4\n",
      "The string after removal of i'th character(works) : JognderSingh\n"
     ]
    }
   ],
   "source": [
    "def remove_a_character(input_str,char_index):\n",
    "    if char_index > len(input_str):\n",
    "        print('String Length is less than given postion.')\n",
    "    else:\n",
    "        ith_char = input_str[char_index-1]\n",
    "        new_str = input_str.replace(ith_char, '', 1)\n",
    "        print (\"The string after removal of i'th character(works) : \" + new_str)\n",
    "        \n",
    "input_str = input(\"Enter the string: \")\n",
    "char_index = int(input('Enter the character postion: '))       \n",
    "remove_a_character(input_str,char_index)"
   ]
  },
  {
   "cell_type": "markdown",
   "id": "a8d1e843",
   "metadata": {},
   "source": [
    "<b>Q3. Write a Python program to split and join a string?"
   ]
  },
  {
   "cell_type": "markdown",
   "id": "bb0b9086",
   "metadata": {},
   "source": [
    "<b>Ans.</b> "
   ]
  },
  {
   "cell_type": "code",
   "execution_count": 15,
   "id": "f1fdd2ec",
   "metadata": {},
   "outputs": [
    {
     "name": "stdout",
     "output_type": "stream",
     "text": [
      "Enter the string: Python program to split and join a string\n",
      "Splitted String : ['Python', 'program', 'to', 'split', 'and', 'join', 'a', 'string']\n",
      "Joined String : Python program to split and join a string\n"
     ]
    }
   ],
   "source": [
    "def split_and_join(mystr):\n",
    "    Splitted = mystr.split(' ')\n",
    "    Joined = ' '.join(mystr.split(' '))\n",
    "    print(f'Splitted String : {Splitted}')\n",
    "    print('Joined String : '+ Joined)\n",
    "        \n",
    "\n",
    "input_str = input(\"Enter the string: \")\n",
    "split_and_join(input_str) "
   ]
  },
  {
   "cell_type": "markdown",
   "id": "e681e882",
   "metadata": {},
   "source": [
    "<b> Q4. Write a Python to check if a given string is binary string or not?"
   ]
  },
  {
   "cell_type": "markdown",
   "id": "6a631c11",
   "metadata": {},
   "source": [
    "<b>Ans.</b> "
   ]
  },
  {
   "cell_type": "code",
   "execution_count": 17,
   "id": "aad2387b",
   "metadata": {},
   "outputs": [
    {
     "name": "stdout",
     "output_type": "stream",
     "text": [
      "Enter the string: 0101010101101010\n",
      "Given string is a binary String.\n"
     ]
    }
   ],
   "source": [
    "def binary_string(mystr):\n",
    "    bin_check = 0\n",
    "    for char in mystr:\n",
    "        if char in ['0','1']:\n",
    "            bin_check = 0\n",
    "            continue\n",
    "        else:\n",
    "            bin_check = 1\n",
    "            break\n",
    "    if bin_check == 0 :\n",
    "        print('Given string is a binary String.')\n",
    "    else:\n",
    "        print('Given string is not a binary String.') \n",
    "            \n",
    "        \n",
    "\n",
    "input_str = input(\"Enter the string: \")\n",
    "binary_string(input_str)"
   ]
  },
  {
   "cell_type": "markdown",
   "id": "5f17071c",
   "metadata": {},
   "source": [
    "<b>Q5. Write a Python program to find uncommon words from two Strings?"
   ]
  },
  {
   "cell_type": "markdown",
   "id": "c38cc030",
   "metadata": {},
   "source": [
    "<b>Ans.</b> "
   ]
  },
  {
   "cell_type": "code",
   "execution_count": 19,
   "id": "9da2ea39",
   "metadata": {
    "scrolled": true
   },
   "outputs": [
    {
     "name": "stdout",
     "output_type": "stream",
     "text": [
      "Enter the 1st string: Python program to find uncommon words from two Strings\n",
      "Enter the 2nd string: Python to find all duplicate characters in string\n",
      "Uncommon words : {'words', 'from', 'in', 'program', 'two', 'characters', 'all', 'string', 'duplicate', 'uncommon', 'Strings'}\n"
     ]
    }
   ],
   "source": [
    "def uncommon_word(str1,str2):\n",
    "    output_list = []\n",
    "    Splitted1 = set(str1.split(' '))\n",
    "    Splitted2 = set(str2.split(' '))\n",
    "    \n",
    "    all_words = Splitted1.union(Splitted2)\n",
    "    common_words = Splitted1.intersection(Splitted2)\n",
    "    uncommon_words = all_words.difference(common_words)\n",
    "    print(f'Uncommon words : {uncommon_words}')\n",
    "            \n",
    "input_str1 = input(\"Enter the 1st string: \")\n",
    "input_str2 = input(\"Enter the 2nd string: \")\n",
    "uncommon_word(input_str1,input_str2)"
   ]
  },
  {
   "cell_type": "markdown",
   "id": "a9d4baef",
   "metadata": {},
   "source": [
    "<b>Q6. Write a Python to find all duplicate characters in string?"
   ]
  },
  {
   "cell_type": "markdown",
   "id": "cec40ccd",
   "metadata": {},
   "source": [
    "<b>Ans.</b> "
   ]
  },
  {
   "cell_type": "code",
   "execution_count": 3,
   "id": "759ef2e6",
   "metadata": {
    "scrolled": true
   },
   "outputs": [
    {
     "name": "stdout",
     "output_type": "stream",
     "text": [
      "Enter the string: ProgrammingAssignment\n",
      "['r', 'g', 'm', 'i', 'n', 's']\n"
     ]
    }
   ],
   "source": [
    "def duplicate_chracter(mystr):\n",
    "    chardict = {}\n",
    "    duplicates = []\n",
    "    for char in mystr:\n",
    "        if char not in chardict:\n",
    "            chardict[char] = 1\n",
    "        else:\n",
    "            chardict[char] += 1\n",
    "    for char, count in chardict.items():\n",
    "        if count > 1:\n",
    "            duplicates.append(char)\n",
    "    print(duplicates)\n",
    "        \n",
    "input_str = input(\"Enter the string: \")\n",
    "duplicate_chracter(input_str)"
   ]
  },
  {
   "cell_type": "markdown",
   "id": "d0d14026",
   "metadata": {},
   "source": [
    "<b>Q7. Write a Python Program to check if a string contains any special character?"
   ]
  },
  {
   "cell_type": "markdown",
   "id": "ec569e54",
   "metadata": {},
   "source": [
    "<b>Ans.</b> "
   ]
  },
  {
   "cell_type": "code",
   "execution_count": 7,
   "id": "da799773",
   "metadata": {
    "scrolled": false
   },
   "outputs": [
    {
     "name": "stdout",
     "output_type": "stream",
     "text": [
      "Enter the string: JogenderSingh\n",
      "Given string not containing any Special Characters\n",
      "Enter the string: Jogender@123#\n",
      "Given string contains Special Characters\n"
     ]
    }
   ],
   "source": [
    "def spec_char_check(mystr):\n",
    "    spec_char='[@_!#$%^&*()<>?/\\|}{~:]' \n",
    "    spec_check = 0\n",
    "    for char in mystr:\n",
    "        if char not in spec_char:\n",
    "            spec_check = 0\n",
    "            continue\n",
    "        else:\n",
    "            spec_check = 1\n",
    "            break\n",
    "        \n",
    "    if spec_check == 0 :\n",
    "        print('Given string not containing any Special Characters')\n",
    "    else:\n",
    "        print('Given string contains Special Characters') \n",
    "            \n",
    "\n",
    "\n",
    "input_str = input(\"Enter the string: \")\n",
    "spec_char_check(input_str)\n",
    "input_str = input(\"Enter the string: \")\n",
    "spec_char_check(input_str)"
   ]
  },
  {
   "cell_type": "markdown",
   "id": "2c994dd4",
   "metadata": {},
   "source": [
    "<center>The End"
   ]
  }
 ],
 "metadata": {
  "kernelspec": {
   "display_name": "Python 3 (ipykernel)",
   "language": "python",
   "name": "python3"
  },
  "language_info": {
   "codemirror_mode": {
    "name": "ipython",
    "version": 3
   },
   "file_extension": ".py",
   "mimetype": "text/x-python",
   "name": "python",
   "nbconvert_exporter": "python",
   "pygments_lexer": "ipython3",
   "version": "3.9.12"
  }
 },
 "nbformat": 4,
 "nbformat_minor": 5
}
