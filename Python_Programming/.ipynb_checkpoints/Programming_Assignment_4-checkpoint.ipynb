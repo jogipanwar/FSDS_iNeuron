{
 "cells": [
  {
   "cell_type": "markdown",
   "id": "a8129687",
   "metadata": {},
   "source": [
    "# <center>Programming Assignment - 4\n",
    "<div align=\"right\"> By:Jogender Singh</div>"
   ]
  },
  {
   "cell_type": "markdown",
   "id": "c158581b",
   "metadata": {},
   "source": [
    "<b>Q1. Write a Python Program to Find the Factorial of a Number?"
   ]
  },
  {
   "cell_type": "markdown",
   "id": "eb624bec",
   "metadata": {},
   "source": [
    "<b>Ans.</b>"
   ]
  },
  {
   "cell_type": "code",
   "execution_count": 4,
   "id": "b7771ba7",
   "metadata": {},
   "outputs": [
    {
     "name": "stdout",
     "output_type": "stream",
     "text": [
      "Enter an Positive Integer for Factorial: 5\n",
      "Fatorial of 5 is: 120.\n"
     ]
    }
   ],
   "source": [
    "N = int(input('Enter an Positive Integer for Factorial: '))\n",
    "\n",
    "F = 1\n",
    "\n",
    "if N == 0 or N == 1:\n",
    "    print('Fatorial of {} is: {}.'.format(N,F))\n",
    "elif N > 1:\n",
    "    for i in range(2,N+1):\n",
    "        F = F*i\n",
    "    print('Fatorial of {} is: {}.'.format(N,F))\n",
    "else:\n",
    "    print('Enter a valid integer value.')"
   ]
  },
  {
   "cell_type": "markdown",
   "id": "1dec4b19",
   "metadata": {},
   "source": [
    "<b>Q2. Write a Python Program to Display the multiplication Table?"
   ]
  },
  {
   "cell_type": "markdown",
   "id": "33ea80b8",
   "metadata": {},
   "source": [
    "<b>Ans.</b> "
   ]
  },
  {
   "cell_type": "code",
   "execution_count": 7,
   "id": "ec76e03b",
   "metadata": {},
   "outputs": [
    {
     "name": "stdout",
     "output_type": "stream",
     "text": [
      "Enter an Integer: 12\n",
      "Multiplication Table of 12 is as Follows:\n",
      "\n",
      "12 X 1 = 12\n",
      "12 X 2 = 24\n",
      "12 X 3 = 36\n",
      "12 X 4 = 48\n",
      "12 X 5 = 60\n",
      "12 X 6 = 72\n",
      "12 X 7 = 84\n",
      "12 X 8 = 96\n",
      "12 X 9 = 108\n",
      "12 X 10 = 120\n"
     ]
    }
   ],
   "source": [
    "N = int(input('Enter an Integer: '))\n",
    "print('Multiplication Table of {} is as Follows:\\n'.format(N))\n",
    "\n",
    "for i in range(1,11):\n",
    "    print('{} X {} = {}'.format(N,i,N*i))\n"
   ]
  },
  {
   "cell_type": "markdown",
   "id": "a8d1e843",
   "metadata": {},
   "source": [
    "<b>Q3. Write a Python Program to Print the Fibonacci sequence?"
   ]
  },
  {
   "cell_type": "markdown",
   "id": "bb0b9086",
   "metadata": {},
   "source": [
    "<b>Ans.</b> "
   ]
  },
  {
   "cell_type": "code",
   "execution_count": 12,
   "id": "f1fdd2ec",
   "metadata": {},
   "outputs": [
    {
     "name": "stdout",
     "output_type": "stream",
     "text": [
      "How many Fibonacci value you want ?: 15\n",
      "First 15 Fibonacci numbers are: [0, 1, 1, 2, 3, 5, 8, 13, 21, 34, 55, 89, 144, 233, 377].\n"
     ]
    }
   ],
   "source": [
    "N = int(input('How many Fibonacci value you want ?: '))\n",
    "Fibb = [0,1]\n",
    "\n",
    "if N == 1:\n",
    "    print('First Fibonacci numbers is: {}.'.format(Fibb[0:1]))\n",
    "elif N == 2:\n",
    "    print('First {} Fibonacci numbers are: {}.'.format(N,Fibb))\n",
    "elif N >2:\n",
    "    for i in range (1,N-1):\n",
    "        new = Fibb[-1]+Fibb[-2]\n",
    "        Fibb.append(new)\n",
    "    print('First {} Fibonacci numbers are: {}.'.format(N,Fibb))\n",
    "else:\n",
    "    print('Please Enter a Positive integer.')\n",
    "    \n"
   ]
  },
  {
   "cell_type": "markdown",
   "id": "e681e882",
   "metadata": {},
   "source": [
    "<b> Q4. Write a Python Program to Check Armstrong Number?"
   ]
  },
  {
   "cell_type": "markdown",
   "id": "6a631c11",
   "metadata": {},
   "source": [
    "<b>Ans.</b> "
   ]
  },
  {
   "cell_type": "code",
   "execution_count": 14,
   "id": "aad2387b",
   "metadata": {},
   "outputs": [
    {
     "name": "stdout",
     "output_type": "stream",
     "text": [
      "Enter an Integer: 153\n",
      "153 is an Armstrong Number.\n"
     ]
    }
   ],
   "source": [
    "num_str = input('Enter an Integer: ')\n",
    "\n",
    "s = 0\n",
    "for digit in num_str:\n",
    "    s = s+ pow(int(digit),3)\n",
    "\n",
    "if s == int(num_str):\n",
    "    print('{} is an Armstrong Number.'.format(num_str))\n",
    "else:\n",
    "    print('{} is not an Armstrong Number.'.format(num_str))\n",
    "\n"
   ]
  },
  {
   "cell_type": "markdown",
   "id": "5f17071c",
   "metadata": {},
   "source": [
    "<b>Q5. Write a Python Program to Find Armstrong Number in an Interval?"
   ]
  },
  {
   "cell_type": "markdown",
   "id": "c38cc030",
   "metadata": {},
   "source": [
    "<b>Ans.</b> "
   ]
  },
  {
   "cell_type": "code",
   "execution_count": 19,
   "id": "9da2ea39",
   "metadata": {},
   "outputs": [
    {
     "name": "stdout",
     "output_type": "stream",
     "text": [
      "Enter an Integer for start point of Interval: 1\n",
      "Enter an Integer for end point of Interval: 1000\n",
      "Between 1 and 1000 Armstrong Numbers are: [1, 153, 370, 371, 407]\n"
     ]
    }
   ],
   "source": [
    "num_str_lower = input('Enter an Integer for start point of Interval: ')\n",
    "num_str_upper = input('Enter an Integer for end point of Interval: ')\n",
    "\n",
    "if int(num_str_lower) >= int(num_str_upper):\n",
    "    print('End point of Interval must be greater than Start point of Interval')\n",
    "else:\n",
    "    ASN = []\n",
    "    for i in  range(int(num_str_lower),int(num_str_upper)+1):\n",
    "        s = 0\n",
    "        for digit in str(i):\n",
    "            s = s+ pow(int(digit),3)\n",
    "        if s == i:\n",
    "            ASN.append(i)\n",
    "    print('Between {} and {} Armstrong Numbers are: {}'.format(num_str_lower,num_str_upper,ASN))\n",
    "    "
   ]
  },
  {
   "cell_type": "markdown",
   "id": "79df31c2",
   "metadata": {},
   "source": [
    "<b>Q5. Write a Python Program to Find the Sum of Natural Numbers?"
   ]
  },
  {
   "cell_type": "markdown",
   "id": "f8d363e9",
   "metadata": {},
   "source": [
    "<b>Ans.</b> "
   ]
  },
  {
   "cell_type": "code",
   "execution_count": 25,
   "id": "877b537b",
   "metadata": {},
   "outputs": [
    {
     "name": "stdout",
     "output_type": "stream",
     "text": [
      "Enter a Natural Number: 100\n",
      "Sum of First 100 Natural Numbers is 5050.\n"
     ]
    }
   ],
   "source": [
    "N = int(input('Enter a Natural Number: '))\n",
    "\n",
    "s = int((N*(N+1))/2)\n",
    "\n",
    "print('Sum of First {} Natural Numbers is {}.'.format(N,s))\n",
    "    "
   ]
  },
  {
   "cell_type": "markdown",
   "id": "2c994dd4",
   "metadata": {},
   "source": [
    "<center>The End"
   ]
  }
 ],
 "metadata": {
  "kernelspec": {
   "display_name": "Python 3 (ipykernel)",
   "language": "python",
   "name": "python3"
  },
  "language_info": {
   "codemirror_mode": {
    "name": "ipython",
    "version": 3
   },
   "file_extension": ".py",
   "mimetype": "text/x-python",
   "name": "python",
   "nbconvert_exporter": "python",
   "pygments_lexer": "ipython3",
   "version": "3.9.12"
  }
 },
 "nbformat": 4,
 "nbformat_minor": 5
}
