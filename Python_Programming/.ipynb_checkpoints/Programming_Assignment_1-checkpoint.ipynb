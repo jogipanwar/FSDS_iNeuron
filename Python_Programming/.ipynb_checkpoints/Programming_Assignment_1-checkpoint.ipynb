{
 "cells": [
  {
   "cell_type": "markdown",
   "id": "a8129687",
   "metadata": {},
   "source": [
    "# <center>Programming Assignment - 1\n",
    "<div align=\"right\"> By:Jogender Singh</div>"
   ]
  },
  {
   "cell_type": "markdown",
   "id": "c158581b",
   "metadata": {},
   "source": [
    "<b>Q1. Write a Python program to print &quot;Hello Python&quot;?"
   ]
  },
  {
   "cell_type": "markdown",
   "id": "eb624bec",
   "metadata": {},
   "source": [
    "<b>Ans.</b>"
   ]
  },
  {
   "cell_type": "code",
   "execution_count": 1,
   "id": "b7771ba7",
   "metadata": {},
   "outputs": [
    {
     "name": "stdout",
     "output_type": "stream",
     "text": [
      "Hello Python\n"
     ]
    }
   ],
   "source": [
    "print(\"Hello Python\")"
   ]
  },
  {
   "cell_type": "markdown",
   "id": "1dec4b19",
   "metadata": {},
   "source": [
    "<b>Q2. Write a Python program to do arithmetical operations addition and division.?"
   ]
  },
  {
   "cell_type": "markdown",
   "id": "33ea80b8",
   "metadata": {},
   "source": [
    "<b>Ans.</b> "
   ]
  },
  {
   "cell_type": "code",
   "execution_count": 7,
   "id": "ec76e03b",
   "metadata": {},
   "outputs": [
    {
     "name": "stdout",
     "output_type": "stream",
     "text": [
      "Please input your value in integer.\n",
      "Enter 1st Digit: 123\n",
      "Enter 2nd Digit: 234\n",
      "For Arithmetical Operations insert 'Add' for addition or 'Div' for Division\n",
      "Enter Arithmetical Operations: Add\n",
      "Result: 357\n"
     ]
    }
   ],
   "source": [
    "print(\"Please input your value in integer.\")\n",
    "\n",
    "a = int(input('Enter 1st Digit: '))\n",
    "b = int(input('Enter 2nd Digit: '))\n",
    "print(\"For Arithmetical Operations insert 'Add' for addition or 'Div' for Division\")\n",
    "\n",
    "ops = input('Enter Arithmetical Operations: ')\n",
    "\n",
    "if ops == 'Add':\n",
    "    print('Result: '+ str(a+b))\n",
    "elif ops == 'Div':\n",
    "    print('Result: '+ str(a/b))\n",
    "else:\n",
    "    print('Please insert valid parameter.')"
   ]
  },
  {
   "cell_type": "markdown",
   "id": "a8d1e843",
   "metadata": {},
   "source": [
    "<b>Q3. Write a Python program to find the area of a triangle?"
   ]
  },
  {
   "cell_type": "markdown",
   "id": "bb0b9086",
   "metadata": {},
   "source": [
    "<b>Ans.</b> "
   ]
  },
  {
   "cell_type": "code",
   "execution_count": 8,
   "id": "f1fdd2ec",
   "metadata": {},
   "outputs": [
    {
     "name": "stdout",
     "output_type": "stream",
     "text": [
      "Please insert base and height of the triangle.\n",
      "Enter Triangle Base: 12\n",
      "Enter Triangle Height: 24\n",
      "Area of the Triangle is 144.0 sq. unit.\n"
     ]
    }
   ],
   "source": [
    "print(\"Please insert base and height of the triangle.\")\n",
    "\n",
    "base = float(input('Enter Triangle Base: '))\n",
    "height = float(input('Enter Triangle Height: '))\n",
    "\n",
    "Area = 0.5*base*height\n",
    "\n",
    "print('Area of the Triangle is '+str(Area)+' sq. unit.' )\n"
   ]
  },
  {
   "cell_type": "markdown",
   "id": "e681e882",
   "metadata": {},
   "source": [
    "<b> Q4. Write a Python program to swap two variables?"
   ]
  },
  {
   "cell_type": "markdown",
   "id": "6a631c11",
   "metadata": {},
   "source": [
    "<b>Ans.</b> "
   ]
  },
  {
   "cell_type": "code",
   "execution_count": 9,
   "id": "aad2387b",
   "metadata": {},
   "outputs": [
    {
     "name": "stdout",
     "output_type": "stream",
     "text": [
      "Please insert the variable.\n",
      "Enter 1st Variable: Happy\n",
      "Enter 2nd Variable: Joy\n",
      "Before Swap: 1st Variable is Happy and 2nd Variable is Joy.\n",
      "After Swap: 1st Variable is Joy and 2nd Variable is Happy.\n"
     ]
    }
   ],
   "source": [
    "print(\"Please insert the variable.\")\n",
    "\n",
    "a = input('Enter 1st Variable: ')\n",
    "b = input('Enter 2nd Variable: ')\n",
    "\n",
    "print('Before Swap: 1st Variable is {} and 2nd Variable is {}.'.format(a, b))\n",
    "\n",
    "#Swaping Variable\n",
    "c = a\n",
    "a = b\n",
    "b = c\n",
    "\n",
    "print('After Swap: 1st Variable is {} and 2nd Variable is {}.'.format(a, b))\n"
   ]
  },
  {
   "cell_type": "markdown",
   "id": "5f17071c",
   "metadata": {},
   "source": [
    "<b>Q5. Write a Python program to generate a random number?"
   ]
  },
  {
   "cell_type": "markdown",
   "id": "c38cc030",
   "metadata": {},
   "source": [
    "<b>Ans.</b> "
   ]
  },
  {
   "cell_type": "code",
   "execution_count": 11,
   "id": "9da2ea39",
   "metadata": {},
   "outputs": [
    {
     "name": "stdout",
     "output_type": "stream",
     "text": [
      "Please insert lower and upper range to get a random intger.\n",
      "Insert Lower Range: 23\n",
      "Insert Upper Range: 230\n",
      "Random Number is : 101.\n"
     ]
    }
   ],
   "source": [
    "import random  #importing random module\n",
    "print(\"Please insert lower and upper range to get a random intger.\")\n",
    "\n",
    "\n",
    "a = int(input('Insert Lower Range: '))\n",
    "b = int(input('Insert Upper Range: '))\n",
    "\n",
    "c = random.randint(a,b)\n",
    "print('Random Number is : {}.'.format(c))"
   ]
  },
  {
   "cell_type": "markdown",
   "id": "2c994dd4",
   "metadata": {},
   "source": [
    "<center>The End"
   ]
  }
 ],
 "metadata": {
  "kernelspec": {
   "display_name": "Python 3 (ipykernel)",
   "language": "python",
   "name": "python3"
  },
  "language_info": {
   "codemirror_mode": {
    "name": "ipython",
    "version": 3
   },
   "file_extension": ".py",
   "mimetype": "text/x-python",
   "name": "python",
   "nbconvert_exporter": "python",
   "pygments_lexer": "ipython3",
   "version": "3.9.12"
  }
 },
 "nbformat": 4,
 "nbformat_minor": 5
}
