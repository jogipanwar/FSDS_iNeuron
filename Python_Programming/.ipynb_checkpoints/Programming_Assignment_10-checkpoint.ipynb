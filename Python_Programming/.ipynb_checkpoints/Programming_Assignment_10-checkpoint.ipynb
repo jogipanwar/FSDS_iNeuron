{
 "cells": [
  {
   "cell_type": "markdown",
   "id": "a8129687",
   "metadata": {},
   "source": [
    "# <center>Programming Assignment - 10\n",
    "<div align=\"right\"> By:Jogender Singh</div>"
   ]
  },
  {
   "cell_type": "markdown",
   "id": "c158581b",
   "metadata": {},
   "source": [
    "<b>Q1. Write a Python program to find sum of elements in list?"
   ]
  },
  {
   "cell_type": "markdown",
   "id": "eb624bec",
   "metadata": {},
   "source": [
    "<b>Ans.</b>"
   ]
  },
  {
   "cell_type": "code",
   "execution_count": 3,
   "id": "b7771ba7",
   "metadata": {},
   "outputs": [
    {
     "name": "stdout",
     "output_type": "stream",
     "text": [
      "Sum of List :\n"
     ]
    },
    {
     "data": {
      "text/plain": [
       "69"
      ]
     },
     "execution_count": 3,
     "metadata": {},
     "output_type": "execute_result"
    }
   ],
   "source": [
    "def sum_of_list(nlist):\n",
    "    S = 0\n",
    "    for i in nlist:\n",
    "        S += i;\n",
    "    print('Sum of List :')\n",
    "    return S\n",
    "        \n",
    "\n",
    "numlist = [1, 2, 3, 4,8 ,7,11,23,10]\n",
    "sum_of_list(numlist)"
   ]
  },
  {
   "cell_type": "markdown",
   "id": "1dec4b19",
   "metadata": {},
   "source": [
    "<b>Q2. Write a Python program to Multiply all numbers in the list?"
   ]
  },
  {
   "cell_type": "markdown",
   "id": "33ea80b8",
   "metadata": {},
   "source": [
    "<b>Ans.</b> "
   ]
  },
  {
   "cell_type": "code",
   "execution_count": 8,
   "id": "ec76e03b",
   "metadata": {},
   "outputs": [
    {
     "name": "stdout",
     "output_type": "stream",
     "text": [
      "Multiplication of List :\n"
     ]
    },
    {
     "data": {
      "text/plain": [
       "3400320"
      ]
     },
     "execution_count": 8,
     "metadata": {},
     "output_type": "execute_result"
    }
   ],
   "source": [
    "def multiply_list(nlist):\n",
    "    X = 1\n",
    "    for i in nlist:\n",
    "        X *= i;\n",
    "    print('Multiplication of List :')\n",
    "    return X\n",
    "        \n",
    "\n",
    "numlist = [1, 2, 3, 4,8 ,7,11,23,10]\n",
    "multiply_list(numlist)        "
   ]
  },
  {
   "cell_type": "markdown",
   "id": "a8d1e843",
   "metadata": {},
   "source": [
    "<b>Q3. Write a Python program to find smallest number in a list?"
   ]
  },
  {
   "cell_type": "markdown",
   "id": "bb0b9086",
   "metadata": {},
   "source": [
    "<b>Ans.</b> "
   ]
  },
  {
   "cell_type": "code",
   "execution_count": 9,
   "id": "f1fdd2ec",
   "metadata": {},
   "outputs": [
    {
     "name": "stdout",
     "output_type": "stream",
     "text": [
      "Smallest number in List is : \n"
     ]
    },
    {
     "data": {
      "text/plain": [
       "1"
      ]
     },
     "execution_count": 9,
     "metadata": {},
     "output_type": "execute_result"
    }
   ],
   "source": [
    "def smallest_in_list(nlist):\n",
    "    print('Smallest number in List is : ')\n",
    "    return(min(nlist))\n",
    "        \n",
    "\n",
    "numlist = [1, 2, 3, 4,8 ,7,11,23,10]\n",
    "smallest_in_list(numlist) "
   ]
  },
  {
   "cell_type": "markdown",
   "id": "e681e882",
   "metadata": {},
   "source": [
    "<b> Q4. Write a Python program to find largest number in a list?"
   ]
  },
  {
   "cell_type": "markdown",
   "id": "6a631c11",
   "metadata": {},
   "source": [
    "<b>Ans.</b> "
   ]
  },
  {
   "cell_type": "code",
   "execution_count": 12,
   "id": "aad2387b",
   "metadata": {},
   "outputs": [
    {
     "name": "stdout",
     "output_type": "stream",
     "text": [
      "Largest number in List is : \n"
     ]
    },
    {
     "data": {
      "text/plain": [
       "23"
      ]
     },
     "execution_count": 12,
     "metadata": {},
     "output_type": "execute_result"
    }
   ],
   "source": [
    "def largest_in_list(nlist):\n",
    "    print('Largest number in List is : ')\n",
    "    return(max(nlist))\n",
    "        \n",
    "\n",
    "numlist = [1, 2, 3, 4,8 ,7,11,23,10]\n",
    "largest_in_list(numlist)\n"
   ]
  },
  {
   "cell_type": "markdown",
   "id": "5f17071c",
   "metadata": {},
   "source": [
    "<b>Q5. Write a Python program to find second largest number in a list?"
   ]
  },
  {
   "cell_type": "markdown",
   "id": "c38cc030",
   "metadata": {},
   "source": [
    "<b>Ans.</b> "
   ]
  },
  {
   "cell_type": "code",
   "execution_count": 20,
   "id": "9da2ea39",
   "metadata": {
    "scrolled": true
   },
   "outputs": [
    {
     "name": "stdout",
     "output_type": "stream",
     "text": [
      "2nd Largest number in List is : \n"
     ]
    },
    {
     "data": {
      "text/plain": [
       "11"
      ]
     },
     "execution_count": 20,
     "metadata": {},
     "output_type": "execute_result"
    }
   ],
   "source": [
    "def largest_2nd_in_list(nlist):\n",
    "    nlist.sort()\n",
    "    print('2nd Largest number in List is : ')\n",
    "    return nlist[-2]\n",
    "        \n",
    "\n",
    "numlist = [1, 2, 3, 4,8 ,7,11,23,10]\n",
    "largest_2nd_in_list(numlist)"
   ]
  },
  {
   "cell_type": "markdown",
   "id": "a9d4baef",
   "metadata": {},
   "source": [
    "<b>Q6. Write a Python program to find N largest elements from a list?"
   ]
  },
  {
   "cell_type": "markdown",
   "id": "cec40ccd",
   "metadata": {},
   "source": [
    "<b>Ans.</b> "
   ]
  },
  {
   "cell_type": "code",
   "execution_count": 22,
   "id": "759ef2e6",
   "metadata": {
    "scrolled": true
   },
   "outputs": [
    {
     "name": "stdout",
     "output_type": "stream",
     "text": [
      "5 Largest number in List is : \n"
     ]
    },
    {
     "data": {
      "text/plain": [
       "7"
      ]
     },
     "execution_count": 22,
     "metadata": {},
     "output_type": "execute_result"
    }
   ],
   "source": [
    "def largest_Nth_in_list(nlist,N):\n",
    "    nlist.sort()\n",
    "    print('{} Largest number in List is : '.format(N))\n",
    "    return nlist[-N]\n",
    "        \n",
    "\n",
    "numlist = [1, 2, 3, 4,8 ,7,11,23,10]\n",
    "N = 5\n",
    "largest_Nth_in_list(numlist,N)"
   ]
  },
  {
   "cell_type": "markdown",
   "id": "d0d14026",
   "metadata": {},
   "source": [
    "<b>Q7. Write a Python program to print even numbers in a list?"
   ]
  },
  {
   "cell_type": "markdown",
   "id": "ec569e54",
   "metadata": {},
   "source": [
    "<b>Ans.</b> "
   ]
  },
  {
   "cell_type": "code",
   "execution_count": 25,
   "id": "da799773",
   "metadata": {
    "scrolled": false
   },
   "outputs": [
    {
     "name": "stdout",
     "output_type": "stream",
     "text": [
      "Even no in given list are : \n",
      "2\n",
      "4\n",
      "8\n",
      "10\n"
     ]
    }
   ],
   "source": [
    "def even_in_list(nlist):\n",
    "    print('Even no in given list are : ')\n",
    "    for i in nlist:\n",
    "        if i%2 == 0 :\n",
    "            print(i)\n",
    "        \n",
    "\n",
    "numlist = [1, 2, 3, 4,8 ,7,11,23,10]\n",
    "\n",
    "even_in_list(numlist)"
   ]
  },
  {
   "cell_type": "markdown",
   "id": "50b3a39e",
   "metadata": {},
   "source": [
    "<b>Q8. Write a Python program to print odd numbers in a List?"
   ]
  },
  {
   "cell_type": "markdown",
   "id": "af36b0fe",
   "metadata": {},
   "source": [
    "<b>Ans.</b> "
   ]
  },
  {
   "cell_type": "code",
   "execution_count": 34,
   "id": "41938788",
   "metadata": {},
   "outputs": [
    {
     "name": "stdout",
     "output_type": "stream",
     "text": [
      "Odd no in given list are : \n",
      "1\n",
      "3\n",
      "7\n",
      "11\n",
      "23\n"
     ]
    }
   ],
   "source": [
    "def odd_in_list(nlist):\n",
    "    print('Odd no in given list are : ')\n",
    "    for i in nlist:\n",
    "        if i%2 != 0 :\n",
    "            print(i)\n",
    "        \n",
    "\n",
    "numlist = [1, 2, 3, 4,8 ,7,11,23,10]\n",
    "\n",
    "odd_in_list(numlist)"
   ]
  },
  {
   "cell_type": "markdown",
   "id": "b96c6337",
   "metadata": {},
   "source": [
    "<b>Q9. Write a Python program to Remove empty List from List?"
   ]
  },
  {
   "cell_type": "markdown",
   "id": "a35672ac",
   "metadata": {},
   "source": [
    "<b>Ans.</b> "
   ]
  },
  {
   "cell_type": "code",
   "execution_count": 38,
   "id": "b94da195",
   "metadata": {},
   "outputs": [
    {
     "name": "stdout",
     "output_type": "stream",
     "text": [
      "THe Given List is : \n",
      "Updated List : \n"
     ]
    },
    {
     "data": {
      "text/plain": [
       "[1, 2, 3, 4, 8, 7, 11, [23, 10], [1, 2, 3]]"
      ]
     },
     "execution_count": 38,
     "metadata": {},
     "output_type": "execute_result"
    }
   ],
   "source": [
    "def removing_empty_list_from_list(nlist):\n",
    "    print('Updated List : ')\n",
    "    for i in nlist:\n",
    "        if isinstance(i, list):\n",
    "            if len(i) == 0:\n",
    "                nlist.remove(i)\n",
    "    return nlist\n",
    "        \n",
    "\n",
    "numlist = [1, 2, 3, 4,8 ,7,11,[23,10],[],[1,2,3]]\n",
    "\n",
    "print('THe Given List is : ')\n",
    "removing_empty_list_from_list(numlist)"
   ]
  },
  {
   "cell_type": "markdown",
   "id": "93d5daf7",
   "metadata": {},
   "source": [
    "<b>Q10. Write a Python program to Cloning or Copying a list?"
   ]
  },
  {
   "cell_type": "markdown",
   "id": "2ff5c6db",
   "metadata": {},
   "source": [
    "<b>Ans.</b>"
   ]
  },
  {
   "cell_type": "code",
   "execution_count": 41,
   "id": "691325c1",
   "metadata": {},
   "outputs": [
    {
     "name": "stdout",
     "output_type": "stream",
     "text": [
      "Original List: [1, 2, 3, 4, 8, 7, 11, [23, 10], [], [1, 2, 3]]\n",
      "After Cloning: [1, 2, 3, 4, 8, 7, 11, [23, 10], [], [1, 2, 3]]\n"
     ]
    }
   ],
   "source": [
    "def Cloning_of_list(n_list):\n",
    "    n_list_copy = n_list\n",
    "    return n_list_copy\n",
    "\n",
    "\n",
    "numlist = [1, 2, 3, 4,8 ,7,11,[23,10],[],[1,2,3]]\n",
    "numlistcopy = Cloning_of_list(numlist)\n",
    "print(\"Original List:\", numlist)\n",
    "print(\"After Cloning:\", numlistcopy)"
   ]
  },
  {
   "cell_type": "markdown",
   "id": "f186292e",
   "metadata": {},
   "source": [
    "<b>Q11. Write a Python program to Count occurrences of an element in a list?"
   ]
  },
  {
   "cell_type": "markdown",
   "id": "f152e86d",
   "metadata": {},
   "source": [
    "<b>Ans.</b> "
   ]
  },
  {
   "cell_type": "code",
   "execution_count": 42,
   "id": "033c6111",
   "metadata": {},
   "outputs": [
    {
     "name": "stdout",
     "output_type": "stream",
     "text": [
      "The occurence count of 5 in List is: \n"
     ]
    },
    {
     "data": {
      "text/plain": [
       "3"
      ]
     },
     "execution_count": 42,
     "metadata": {},
     "output_type": "execute_result"
    }
   ],
   "source": [
    "def occurence_of_element(nlist,ele):\n",
    "    nlist.sort()\n",
    "    print('The occurence count of {} in List is: '.format(ele))\n",
    "    return nlist.count(ele)\n",
    "        \n",
    "\n",
    "numlist = [1, 2, 3, 4,8 ,7,11,23,10,5,6,5,5]\n",
    "ele = 5\n",
    "occurence_of_element(numlist,N)"
   ]
  },
  {
   "cell_type": "markdown",
   "id": "2c994dd4",
   "metadata": {},
   "source": [
    "<center>The End"
   ]
  }
 ],
 "metadata": {
  "kernelspec": {
   "display_name": "Python 3 (ipykernel)",
   "language": "python",
   "name": "python3"
  },
  "language_info": {
   "codemirror_mode": {
    "name": "ipython",
    "version": 3
   },
   "file_extension": ".py",
   "mimetype": "text/x-python",
   "name": "python",
   "nbconvert_exporter": "python",
   "pygments_lexer": "ipython3",
   "version": "3.9.12"
  }
 },
 "nbformat": 4,
 "nbformat_minor": 5
}
