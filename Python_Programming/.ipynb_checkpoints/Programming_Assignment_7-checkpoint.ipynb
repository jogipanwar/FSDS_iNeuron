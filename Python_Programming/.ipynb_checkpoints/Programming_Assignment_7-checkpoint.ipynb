{
 "cells": [
  {
   "cell_type": "markdown",
   "id": "a8129687",
   "metadata": {},
   "source": [
    "# <center>Programming Assignment - 7\n",
    "<div align=\"right\"> By:Jogender Singh</div>"
   ]
  },
  {
   "cell_type": "markdown",
   "id": "c158581b",
   "metadata": {},
   "source": [
    "<b>Q1. Write a Python Program to Display Fibonacci Sequence Using Recursion?"
   ]
  },
  {
   "cell_type": "markdown",
   "id": "eb624bec",
   "metadata": {},
   "source": [
    "<b>Ans.</b>"
   ]
  },
  {
   "cell_type": "code",
   "execution_count": 1,
   "id": "b7771ba7",
   "metadata": {},
   "outputs": [
    {
     "name": "stdout",
     "output_type": "stream",
     "text": [
      "How many Fibonacci number you want :\n",
      "Enter an integer: 10\n",
      "0\n",
      "1\n",
      "1\n",
      "2\n",
      "3\n",
      "5\n",
      "8\n",
      "13\n",
      "21\n",
      "34\n"
     ]
    }
   ],
   "source": [
    "def finonacci_recurrsion(n):\n",
    "    if n <= 1:\n",
    "       return n\n",
    "    else:\n",
    "       return(finonacci_recurrsion(n-1) + finonacci_recurrsion(n-2))\n",
    "\n",
    "X = int(input('How many Fibonacci number you want :\\nEnter an integer: '))\n",
    "\n",
    "\n",
    "for i in range(X):\n",
    "       print(finonacci_recurrsion(i))"
   ]
  },
  {
   "cell_type": "markdown",
   "id": "1dec4b19",
   "metadata": {},
   "source": [
    "<b>Q2. Write a Python Program to Find Factorial of Number Using Recursion?"
   ]
  },
  {
   "cell_type": "markdown",
   "id": "33ea80b8",
   "metadata": {},
   "source": [
    "<b>Ans.</b> "
   ]
  },
  {
   "cell_type": "code",
   "execution_count": 7,
   "id": "ec76e03b",
   "metadata": {},
   "outputs": [
    {
     "name": "stdout",
     "output_type": "stream",
     "text": [
      "Enter an  postive integer to get factorial: 10\n",
      "3628800\n"
     ]
    }
   ],
   "source": [
    "def factorial_recurrsion(n):\n",
    "    f = 1\n",
    "    if n <= 1:\n",
    "       return 1\n",
    "    else:\n",
    "       return(n*factorial_recurrsion(n-1))\n",
    "X = int(input('Enter an  postive integer to get factorial: '))\n",
    "\n",
    "print(factorial_recurrsion(X))"
   ]
  },
  {
   "cell_type": "markdown",
   "id": "a8d1e843",
   "metadata": {},
   "source": [
    "<b>Q3. Write a Python Program to calculate your Body Mass Index?"
   ]
  },
  {
   "cell_type": "markdown",
   "id": "bb0b9086",
   "metadata": {},
   "source": [
    "<b>Ans.</b> "
   ]
  },
  {
   "cell_type": "code",
   "execution_count": 11,
   "id": "f1fdd2ec",
   "metadata": {},
   "outputs": [
    {
     "name": "stdout",
     "output_type": "stream",
     "text": [
      "Enter Your Weight (In Kg): 70\n",
      "Enter Your Height(In Meter): 1.68\n",
      "Your BMI is:  24.8\n"
     ]
    }
   ],
   "source": [
    "'''\n",
    "BMI = weight (kg) / [height (m)]^2\n",
    "'''\n",
    "W = float(input('Enter Your Weight (In Kg): '))\n",
    "H = float(input('Enter Your Height(In Meter): '))\n",
    "\n",
    "print(\"Your BMI is: \", round(W / (H * H), 2))"
   ]
  },
  {
   "cell_type": "markdown",
   "id": "e681e882",
   "metadata": {},
   "source": [
    "<b> Q4. Write a Python Program to calculate the natural logarithm of any number?"
   ]
  },
  {
   "cell_type": "markdown",
   "id": "6a631c11",
   "metadata": {},
   "source": [
    "<b>Ans.</b> "
   ]
  },
  {
   "cell_type": "code",
   "execution_count": 15,
   "id": "aad2387b",
   "metadata": {},
   "outputs": [
    {
     "name": "stdout",
     "output_type": "stream",
     "text": [
      "Enter a number for logritham value: 10\n",
      "The natural logarithm value of 10.0 is: 2.303\n"
     ]
    }
   ],
   "source": [
    "'''\n",
    "The natural logarithm is the logarithm of any number to the base e\n",
    "'''\n",
    "\n",
    "import math\n",
    "\n",
    "N = float(input('Enter a number for logritham value: '))\n",
    "print('The natural logarithm value of {} is: {}'.format(N,round(math.log(N),3)))"
   ]
  },
  {
   "cell_type": "markdown",
   "id": "5f17071c",
   "metadata": {},
   "source": [
    "<b>Q5. Write a Python Program for cube sum of first n natural numbers?"
   ]
  },
  {
   "cell_type": "markdown",
   "id": "c38cc030",
   "metadata": {},
   "source": [
    "<b>Ans.</b> "
   ]
  },
  {
   "cell_type": "code",
   "execution_count": 17,
   "id": "9da2ea39",
   "metadata": {
    "scrolled": true
   },
   "outputs": [
    {
     "name": "stdout",
     "output_type": "stream",
     "text": [
      "Enter a positive integer to get cube sum: 10\n",
      "Cube sum of first 10 natural numbers is: 3025\n"
     ]
    }
   ],
   "source": [
    "import math\n",
    "\n",
    "N = int(input('Enter a positive integer to get cube sum: '))\n",
    "S = math.pow(N,2)*math.pow(N+1,2)/4\n",
    "print('Cube sum of first {} natural numbers is: {}'.format(N,int(S)))"
   ]
  },
  {
   "cell_type": "markdown",
   "id": "2c994dd4",
   "metadata": {},
   "source": [
    "<center>The End"
   ]
  }
 ],
 "metadata": {
  "kernelspec": {
   "display_name": "Python 3 (ipykernel)",
   "language": "python",
   "name": "python3"
  },
  "language_info": {
   "codemirror_mode": {
    "name": "ipython",
    "version": 3
   },
   "file_extension": ".py",
   "mimetype": "text/x-python",
   "name": "python",
   "nbconvert_exporter": "python",
   "pygments_lexer": "ipython3",
   "version": "3.9.12"
  }
 },
 "nbformat": 4,
 "nbformat_minor": 5
}
